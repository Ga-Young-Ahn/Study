{
  "nbformat": 4,
  "nbformat_minor": 0,
  "metadata": {
    "colab": {
      "name": "CH4_자연어 처리를 위한 피드 포워드 신경망.ipynb",
      "provenance": [],
      "collapsed_sections": [],
      "mount_file_id": "1VoYCyh_gQ-TZ8gCOGFQVWTGFOC13khmj",
      "authorship_tag": "ABX9TyMUFItsdUuoga9QlJnDB/qV",
      "include_colab_link": true
    },
    "kernelspec": {
      "name": "python3",
      "display_name": "Python 3"
    },
    "language_info": {
      "name": "python"
    },
    "widgets": {
      "application/vnd.jupyter.widget-state+json": {
        "ddc04beae6eb4ab7b383d6c5fa3a4441": {
          "model_module": "@jupyter-widgets/controls",
          "model_name": "HBoxModel",
          "model_module_version": "1.5.0",
          "state": {
            "_view_name": "HBoxView",
            "_dom_classes": [],
            "_model_name": "HBoxModel",
            "_view_module": "@jupyter-widgets/controls",
            "_model_module_version": "1.5.0",
            "_view_count": null,
            "_view_module_version": "1.5.0",
            "box_style": "",
            "layout": "IPY_MODEL_cb7a1ba3a8fd44afbbe93a728328f674",
            "_model_module": "@jupyter-widgets/controls",
            "children": [
              "IPY_MODEL_7457dff530b34915ab8ff704c2c04a7e",
              "IPY_MODEL_7ed3f05a3a634b94a95ad4b2f751f1a6",
              "IPY_MODEL_b257f61cd9d344ab9821a5fa661cd4d7"
            ]
          }
        },
        "cb7a1ba3a8fd44afbbe93a728328f674": {
          "model_module": "@jupyter-widgets/base",
          "model_name": "LayoutModel",
          "model_module_version": "1.2.0",
          "state": {
            "_view_name": "LayoutView",
            "grid_template_rows": null,
            "right": null,
            "justify_content": null,
            "_view_module": "@jupyter-widgets/base",
            "overflow": null,
            "_model_module_version": "1.2.0",
            "_view_count": null,
            "flex_flow": null,
            "width": null,
            "min_width": null,
            "border": null,
            "align_items": null,
            "bottom": null,
            "_model_module": "@jupyter-widgets/base",
            "top": null,
            "grid_column": null,
            "overflow_y": null,
            "overflow_x": null,
            "grid_auto_flow": null,
            "grid_area": null,
            "grid_template_columns": null,
            "flex": null,
            "_model_name": "LayoutModel",
            "justify_items": null,
            "grid_row": null,
            "max_height": null,
            "align_content": null,
            "visibility": null,
            "align_self": null,
            "height": null,
            "min_height": null,
            "padding": null,
            "grid_auto_rows": null,
            "grid_gap": null,
            "max_width": null,
            "order": null,
            "_view_module_version": "1.2.0",
            "grid_template_areas": null,
            "object_position": null,
            "object_fit": null,
            "grid_auto_columns": null,
            "margin": null,
            "display": null,
            "left": null
          }
        },
        "7457dff530b34915ab8ff704c2c04a7e": {
          "model_module": "@jupyter-widgets/controls",
          "model_name": "HTMLModel",
          "model_module_version": "1.5.0",
          "state": {
            "_view_name": "HTMLView",
            "style": "IPY_MODEL_f4a1d86b77bb435697c42042beac437f",
            "_dom_classes": [],
            "description": "",
            "_model_name": "HTMLModel",
            "placeholder": "​",
            "_view_module": "@jupyter-widgets/controls",
            "_model_module_version": "1.5.0",
            "value": "training routine: 100%",
            "_view_count": null,
            "_view_module_version": "1.5.0",
            "description_tooltip": null,
            "_model_module": "@jupyter-widgets/controls",
            "layout": "IPY_MODEL_4eebae5a610445dd8f48e1766112358c"
          }
        },
        "7ed3f05a3a634b94a95ad4b2f751f1a6": {
          "model_module": "@jupyter-widgets/controls",
          "model_name": "FloatProgressModel",
          "model_module_version": "1.5.0",
          "state": {
            "_view_name": "ProgressView",
            "style": "IPY_MODEL_badfc31d80ab46ba8a95fec543311ae5",
            "_dom_classes": [],
            "description": "",
            "_model_name": "FloatProgressModel",
            "bar_style": "",
            "max": 100,
            "_view_module": "@jupyter-widgets/controls",
            "_model_module_version": "1.5.0",
            "value": 100,
            "_view_count": null,
            "_view_module_version": "1.5.0",
            "orientation": "horizontal",
            "min": 0,
            "description_tooltip": null,
            "_model_module": "@jupyter-widgets/controls",
            "layout": "IPY_MODEL_81cce4d9caad4cf79ef4b310f2dac4b0"
          }
        },
        "b257f61cd9d344ab9821a5fa661cd4d7": {
          "model_module": "@jupyter-widgets/controls",
          "model_name": "HTMLModel",
          "model_module_version": "1.5.0",
          "state": {
            "_view_name": "HTMLView",
            "style": "IPY_MODEL_eadf5b96c1864b23bce5e80bc7b4b8dd",
            "_dom_classes": [],
            "description": "",
            "_model_name": "HTMLModel",
            "placeholder": "​",
            "_view_module": "@jupyter-widgets/controls",
            "_model_module_version": "1.5.0",
            "value": " 100/100 [07:33&lt;00:00,  3.14s/it]",
            "_view_count": null,
            "_view_module_version": "1.5.0",
            "description_tooltip": null,
            "_model_module": "@jupyter-widgets/controls",
            "layout": "IPY_MODEL_5eb1da57dd4c405bbebf3622b4c75141"
          }
        },
        "f4a1d86b77bb435697c42042beac437f": {
          "model_module": "@jupyter-widgets/controls",
          "model_name": "DescriptionStyleModel",
          "model_module_version": "1.5.0",
          "state": {
            "_view_name": "StyleView",
            "_model_name": "DescriptionStyleModel",
            "description_width": "",
            "_view_module": "@jupyter-widgets/base",
            "_model_module_version": "1.5.0",
            "_view_count": null,
            "_view_module_version": "1.2.0",
            "_model_module": "@jupyter-widgets/controls"
          }
        },
        "4eebae5a610445dd8f48e1766112358c": {
          "model_module": "@jupyter-widgets/base",
          "model_name": "LayoutModel",
          "model_module_version": "1.2.0",
          "state": {
            "_view_name": "LayoutView",
            "grid_template_rows": null,
            "right": null,
            "justify_content": null,
            "_view_module": "@jupyter-widgets/base",
            "overflow": null,
            "_model_module_version": "1.2.0",
            "_view_count": null,
            "flex_flow": null,
            "width": null,
            "min_width": null,
            "border": null,
            "align_items": null,
            "bottom": null,
            "_model_module": "@jupyter-widgets/base",
            "top": null,
            "grid_column": null,
            "overflow_y": null,
            "overflow_x": null,
            "grid_auto_flow": null,
            "grid_area": null,
            "grid_template_columns": null,
            "flex": null,
            "_model_name": "LayoutModel",
            "justify_items": null,
            "grid_row": null,
            "max_height": null,
            "align_content": null,
            "visibility": null,
            "align_self": null,
            "height": null,
            "min_height": null,
            "padding": null,
            "grid_auto_rows": null,
            "grid_gap": null,
            "max_width": null,
            "order": null,
            "_view_module_version": "1.2.0",
            "grid_template_areas": null,
            "object_position": null,
            "object_fit": null,
            "grid_auto_columns": null,
            "margin": null,
            "display": null,
            "left": null
          }
        },
        "badfc31d80ab46ba8a95fec543311ae5": {
          "model_module": "@jupyter-widgets/controls",
          "model_name": "ProgressStyleModel",
          "model_module_version": "1.5.0",
          "state": {
            "_view_name": "StyleView",
            "_model_name": "ProgressStyleModel",
            "description_width": "",
            "_view_module": "@jupyter-widgets/base",
            "_model_module_version": "1.5.0",
            "_view_count": null,
            "_view_module_version": "1.2.0",
            "bar_color": null,
            "_model_module": "@jupyter-widgets/controls"
          }
        },
        "81cce4d9caad4cf79ef4b310f2dac4b0": {
          "model_module": "@jupyter-widgets/base",
          "model_name": "LayoutModel",
          "model_module_version": "1.2.0",
          "state": {
            "_view_name": "LayoutView",
            "grid_template_rows": null,
            "right": null,
            "justify_content": null,
            "_view_module": "@jupyter-widgets/base",
            "overflow": null,
            "_model_module_version": "1.2.0",
            "_view_count": null,
            "flex_flow": null,
            "width": null,
            "min_width": null,
            "border": null,
            "align_items": null,
            "bottom": null,
            "_model_module": "@jupyter-widgets/base",
            "top": null,
            "grid_column": null,
            "overflow_y": null,
            "overflow_x": null,
            "grid_auto_flow": null,
            "grid_area": null,
            "grid_template_columns": null,
            "flex": null,
            "_model_name": "LayoutModel",
            "justify_items": null,
            "grid_row": null,
            "max_height": null,
            "align_content": null,
            "visibility": null,
            "align_self": null,
            "height": null,
            "min_height": null,
            "padding": null,
            "grid_auto_rows": null,
            "grid_gap": null,
            "max_width": null,
            "order": null,
            "_view_module_version": "1.2.0",
            "grid_template_areas": null,
            "object_position": null,
            "object_fit": null,
            "grid_auto_columns": null,
            "margin": null,
            "display": null,
            "left": null
          }
        },
        "eadf5b96c1864b23bce5e80bc7b4b8dd": {
          "model_module": "@jupyter-widgets/controls",
          "model_name": "DescriptionStyleModel",
          "model_module_version": "1.5.0",
          "state": {
            "_view_name": "StyleView",
            "_model_name": "DescriptionStyleModel",
            "description_width": "",
            "_view_module": "@jupyter-widgets/base",
            "_model_module_version": "1.5.0",
            "_view_count": null,
            "_view_module_version": "1.2.0",
            "_model_module": "@jupyter-widgets/controls"
          }
        },
        "5eb1da57dd4c405bbebf3622b4c75141": {
          "model_module": "@jupyter-widgets/base",
          "model_name": "LayoutModel",
          "model_module_version": "1.2.0",
          "state": {
            "_view_name": "LayoutView",
            "grid_template_rows": null,
            "right": null,
            "justify_content": null,
            "_view_module": "@jupyter-widgets/base",
            "overflow": null,
            "_model_module_version": "1.2.0",
            "_view_count": null,
            "flex_flow": null,
            "width": null,
            "min_width": null,
            "border": null,
            "align_items": null,
            "bottom": null,
            "_model_module": "@jupyter-widgets/base",
            "top": null,
            "grid_column": null,
            "overflow_y": null,
            "overflow_x": null,
            "grid_auto_flow": null,
            "grid_area": null,
            "grid_template_columns": null,
            "flex": null,
            "_model_name": "LayoutModel",
            "justify_items": null,
            "grid_row": null,
            "max_height": null,
            "align_content": null,
            "visibility": null,
            "align_self": null,
            "height": null,
            "min_height": null,
            "padding": null,
            "grid_auto_rows": null,
            "grid_gap": null,
            "max_width": null,
            "order": null,
            "_view_module_version": "1.2.0",
            "grid_template_areas": null,
            "object_position": null,
            "object_fit": null,
            "grid_auto_columns": null,
            "margin": null,
            "display": null,
            "left": null
          }
        },
        "5035423cada54f53b54e664332880667": {
          "model_module": "@jupyter-widgets/controls",
          "model_name": "HBoxModel",
          "model_module_version": "1.5.0",
          "state": {
            "_view_name": "HBoxView",
            "_dom_classes": [],
            "_model_name": "HBoxModel",
            "_view_module": "@jupyter-widgets/controls",
            "_model_module_version": "1.5.0",
            "_view_count": null,
            "_view_module_version": "1.5.0",
            "box_style": "",
            "layout": "IPY_MODEL_eadab3c583bb492bb4c281dff78b77c1",
            "_model_module": "@jupyter-widgets/controls",
            "children": [
              "IPY_MODEL_1694e9b09f374176b6ddcd7d3b79d7c5",
              "IPY_MODEL_33ec00f7aa274bd481bb1e1574f8a83e",
              "IPY_MODEL_2f467c74762a4a66b8d44675ada2b0ac"
            ]
          }
        },
        "eadab3c583bb492bb4c281dff78b77c1": {
          "model_module": "@jupyter-widgets/base",
          "model_name": "LayoutModel",
          "model_module_version": "1.2.0",
          "state": {
            "_view_name": "LayoutView",
            "grid_template_rows": null,
            "right": null,
            "justify_content": null,
            "_view_module": "@jupyter-widgets/base",
            "overflow": null,
            "_model_module_version": "1.2.0",
            "_view_count": null,
            "flex_flow": null,
            "width": null,
            "min_width": null,
            "border": null,
            "align_items": null,
            "bottom": null,
            "_model_module": "@jupyter-widgets/base",
            "top": null,
            "grid_column": null,
            "overflow_y": null,
            "overflow_x": null,
            "grid_auto_flow": null,
            "grid_area": null,
            "grid_template_columns": null,
            "flex": null,
            "_model_name": "LayoutModel",
            "justify_items": null,
            "grid_row": null,
            "max_height": null,
            "align_content": null,
            "visibility": null,
            "align_self": null,
            "height": null,
            "min_height": null,
            "padding": null,
            "grid_auto_rows": null,
            "grid_gap": null,
            "max_width": null,
            "order": null,
            "_view_module_version": "1.2.0",
            "grid_template_areas": null,
            "object_position": null,
            "object_fit": null,
            "grid_auto_columns": null,
            "margin": null,
            "display": null,
            "left": null
          }
        },
        "1694e9b09f374176b6ddcd7d3b79d7c5": {
          "model_module": "@jupyter-widgets/controls",
          "model_name": "HTMLModel",
          "model_module_version": "1.5.0",
          "state": {
            "_view_name": "HTMLView",
            "style": "IPY_MODEL_36bebb740cf64fdd9e0f383ca203fe45",
            "_dom_classes": [],
            "description": "",
            "_model_name": "HTMLModel",
            "placeholder": "​",
            "_view_module": "@jupyter-widgets/controls",
            "_model_module_version": "1.5.0",
            "value": "split=train:  99%",
            "_view_count": null,
            "_view_module_version": "1.5.0",
            "description_tooltip": null,
            "_model_module": "@jupyter-widgets/controls",
            "layout": "IPY_MODEL_b69946573be6427182d13f332c58852d"
          }
        },
        "33ec00f7aa274bd481bb1e1574f8a83e": {
          "model_module": "@jupyter-widgets/controls",
          "model_name": "FloatProgressModel",
          "model_module_version": "1.5.0",
          "state": {
            "_view_name": "ProgressView",
            "style": "IPY_MODEL_e184414958344873abc17ac3603b539c",
            "_dom_classes": [],
            "description": "",
            "_model_name": "FloatProgressModel",
            "bar_style": "",
            "max": 120,
            "_view_module": "@jupyter-widgets/controls",
            "_model_module_version": "1.5.0",
            "value": 119,
            "_view_count": null,
            "_view_module_version": "1.5.0",
            "orientation": "horizontal",
            "min": 0,
            "description_tooltip": null,
            "_model_module": "@jupyter-widgets/controls",
            "layout": "IPY_MODEL_489e60f766924994aa31dd544998a607"
          }
        },
        "2f467c74762a4a66b8d44675ada2b0ac": {
          "model_module": "@jupyter-widgets/controls",
          "model_name": "HTMLModel",
          "model_module_version": "1.5.0",
          "state": {
            "_view_name": "HTMLView",
            "style": "IPY_MODEL_9e90d60c20914c6fb6dd1df34cfc1e44",
            "_dom_classes": [],
            "description": "",
            "_model_name": "HTMLModel",
            "placeholder": "​",
            "_view_module": "@jupyter-widgets/controls",
            "_model_module_version": "1.5.0",
            "value": " 119/120 [07:32&lt;00:00, 48.01it/s, acc=56.4, epoch=99, loss=1.1]",
            "_view_count": null,
            "_view_module_version": "1.5.0",
            "description_tooltip": null,
            "_model_module": "@jupyter-widgets/controls",
            "layout": "IPY_MODEL_e0d67c5ca1d545129bbd3c430b078d7c"
          }
        },
        "36bebb740cf64fdd9e0f383ca203fe45": {
          "model_module": "@jupyter-widgets/controls",
          "model_name": "DescriptionStyleModel",
          "model_module_version": "1.5.0",
          "state": {
            "_view_name": "StyleView",
            "_model_name": "DescriptionStyleModel",
            "description_width": "",
            "_view_module": "@jupyter-widgets/base",
            "_model_module_version": "1.5.0",
            "_view_count": null,
            "_view_module_version": "1.2.0",
            "_model_module": "@jupyter-widgets/controls"
          }
        },
        "b69946573be6427182d13f332c58852d": {
          "model_module": "@jupyter-widgets/base",
          "model_name": "LayoutModel",
          "model_module_version": "1.2.0",
          "state": {
            "_view_name": "LayoutView",
            "grid_template_rows": null,
            "right": null,
            "justify_content": null,
            "_view_module": "@jupyter-widgets/base",
            "overflow": null,
            "_model_module_version": "1.2.0",
            "_view_count": null,
            "flex_flow": null,
            "width": null,
            "min_width": null,
            "border": null,
            "align_items": null,
            "bottom": null,
            "_model_module": "@jupyter-widgets/base",
            "top": null,
            "grid_column": null,
            "overflow_y": null,
            "overflow_x": null,
            "grid_auto_flow": null,
            "grid_area": null,
            "grid_template_columns": null,
            "flex": null,
            "_model_name": "LayoutModel",
            "justify_items": null,
            "grid_row": null,
            "max_height": null,
            "align_content": null,
            "visibility": null,
            "align_self": null,
            "height": null,
            "min_height": null,
            "padding": null,
            "grid_auto_rows": null,
            "grid_gap": null,
            "max_width": null,
            "order": null,
            "_view_module_version": "1.2.0",
            "grid_template_areas": null,
            "object_position": null,
            "object_fit": null,
            "grid_auto_columns": null,
            "margin": null,
            "display": null,
            "left": null
          }
        },
        "e184414958344873abc17ac3603b539c": {
          "model_module": "@jupyter-widgets/controls",
          "model_name": "ProgressStyleModel",
          "model_module_version": "1.5.0",
          "state": {
            "_view_name": "StyleView",
            "_model_name": "ProgressStyleModel",
            "description_width": "",
            "_view_module": "@jupyter-widgets/base",
            "_model_module_version": "1.5.0",
            "_view_count": null,
            "_view_module_version": "1.2.0",
            "bar_color": null,
            "_model_module": "@jupyter-widgets/controls"
          }
        },
        "489e60f766924994aa31dd544998a607": {
          "model_module": "@jupyter-widgets/base",
          "model_name": "LayoutModel",
          "model_module_version": "1.2.0",
          "state": {
            "_view_name": "LayoutView",
            "grid_template_rows": null,
            "right": null,
            "justify_content": null,
            "_view_module": "@jupyter-widgets/base",
            "overflow": null,
            "_model_module_version": "1.2.0",
            "_view_count": null,
            "flex_flow": null,
            "width": null,
            "min_width": null,
            "border": null,
            "align_items": null,
            "bottom": null,
            "_model_module": "@jupyter-widgets/base",
            "top": null,
            "grid_column": null,
            "overflow_y": null,
            "overflow_x": null,
            "grid_auto_flow": null,
            "grid_area": null,
            "grid_template_columns": null,
            "flex": null,
            "_model_name": "LayoutModel",
            "justify_items": null,
            "grid_row": null,
            "max_height": null,
            "align_content": null,
            "visibility": null,
            "align_self": null,
            "height": null,
            "min_height": null,
            "padding": null,
            "grid_auto_rows": null,
            "grid_gap": null,
            "max_width": null,
            "order": null,
            "_view_module_version": "1.2.0",
            "grid_template_areas": null,
            "object_position": null,
            "object_fit": null,
            "grid_auto_columns": null,
            "margin": null,
            "display": null,
            "left": null
          }
        },
        "9e90d60c20914c6fb6dd1df34cfc1e44": {
          "model_module": "@jupyter-widgets/controls",
          "model_name": "DescriptionStyleModel",
          "model_module_version": "1.5.0",
          "state": {
            "_view_name": "StyleView",
            "_model_name": "DescriptionStyleModel",
            "description_width": "",
            "_view_module": "@jupyter-widgets/base",
            "_model_module_version": "1.5.0",
            "_view_count": null,
            "_view_module_version": "1.2.0",
            "_model_module": "@jupyter-widgets/controls"
          }
        },
        "e0d67c5ca1d545129bbd3c430b078d7c": {
          "model_module": "@jupyter-widgets/base",
          "model_name": "LayoutModel",
          "model_module_version": "1.2.0",
          "state": {
            "_view_name": "LayoutView",
            "grid_template_rows": null,
            "right": null,
            "justify_content": null,
            "_view_module": "@jupyter-widgets/base",
            "overflow": null,
            "_model_module_version": "1.2.0",
            "_view_count": null,
            "flex_flow": null,
            "width": null,
            "min_width": null,
            "border": null,
            "align_items": null,
            "bottom": null,
            "_model_module": "@jupyter-widgets/base",
            "top": null,
            "grid_column": null,
            "overflow_y": null,
            "overflow_x": null,
            "grid_auto_flow": null,
            "grid_area": null,
            "grid_template_columns": null,
            "flex": null,
            "_model_name": "LayoutModel",
            "justify_items": null,
            "grid_row": null,
            "max_height": null,
            "align_content": null,
            "visibility": null,
            "align_self": null,
            "height": null,
            "min_height": null,
            "padding": null,
            "grid_auto_rows": null,
            "grid_gap": null,
            "max_width": null,
            "order": null,
            "_view_module_version": "1.2.0",
            "grid_template_areas": null,
            "object_position": null,
            "object_fit": null,
            "grid_auto_columns": null,
            "margin": null,
            "display": null,
            "left": null
          }
        },
        "4b31c0591b374e78839222fdb7227d7b": {
          "model_module": "@jupyter-widgets/controls",
          "model_name": "HBoxModel",
          "model_module_version": "1.5.0",
          "state": {
            "_view_name": "HBoxView",
            "_dom_classes": [],
            "_model_name": "HBoxModel",
            "_view_module": "@jupyter-widgets/controls",
            "_model_module_version": "1.5.0",
            "_view_count": null,
            "_view_module_version": "1.5.0",
            "box_style": "",
            "layout": "IPY_MODEL_d364cc6c819e4545bba708cad2d7acfc",
            "_model_module": "@jupyter-widgets/controls",
            "children": [
              "IPY_MODEL_1e9b2dc694bd42989d732ea65e6996f5",
              "IPY_MODEL_8b1594dd3f944cf6ad516580708f809b",
              "IPY_MODEL_f72264dac57942e5a201c20e5e0c847d"
            ]
          }
        },
        "d364cc6c819e4545bba708cad2d7acfc": {
          "model_module": "@jupyter-widgets/base",
          "model_name": "LayoutModel",
          "model_module_version": "1.2.0",
          "state": {
            "_view_name": "LayoutView",
            "grid_template_rows": null,
            "right": null,
            "justify_content": null,
            "_view_module": "@jupyter-widgets/base",
            "overflow": null,
            "_model_module_version": "1.2.0",
            "_view_count": null,
            "flex_flow": null,
            "width": null,
            "min_width": null,
            "border": null,
            "align_items": null,
            "bottom": null,
            "_model_module": "@jupyter-widgets/base",
            "top": null,
            "grid_column": null,
            "overflow_y": null,
            "overflow_x": null,
            "grid_auto_flow": null,
            "grid_area": null,
            "grid_template_columns": null,
            "flex": null,
            "_model_name": "LayoutModel",
            "justify_items": null,
            "grid_row": null,
            "max_height": null,
            "align_content": null,
            "visibility": null,
            "align_self": null,
            "height": null,
            "min_height": null,
            "padding": null,
            "grid_auto_rows": null,
            "grid_gap": null,
            "max_width": null,
            "order": null,
            "_view_module_version": "1.2.0",
            "grid_template_areas": null,
            "object_position": null,
            "object_fit": null,
            "grid_auto_columns": null,
            "margin": null,
            "display": null,
            "left": null
          }
        },
        "1e9b2dc694bd42989d732ea65e6996f5": {
          "model_module": "@jupyter-widgets/controls",
          "model_name": "HTMLModel",
          "model_module_version": "1.5.0",
          "state": {
            "_view_name": "HTMLView",
            "style": "IPY_MODEL_f11f4155dbee45da8e81780dba3d7ea3",
            "_dom_classes": [],
            "description": "",
            "_model_name": "HTMLModel",
            "placeholder": "​",
            "_view_module": "@jupyter-widgets/controls",
            "_model_module_version": "1.5.0",
            "value": "split=val:  96%",
            "_view_count": null,
            "_view_module_version": "1.5.0",
            "description_tooltip": null,
            "_model_module": "@jupyter-widgets/controls",
            "layout": "IPY_MODEL_09e86ef9e73246f594a521d0b1c40799"
          }
        },
        "8b1594dd3f944cf6ad516580708f809b": {
          "model_module": "@jupyter-widgets/controls",
          "model_name": "FloatProgressModel",
          "model_module_version": "1.5.0",
          "state": {
            "_view_name": "ProgressView",
            "style": "IPY_MODEL_c1d062dfbc8143fc81e50a51a2745609",
            "_dom_classes": [],
            "description": "",
            "_model_name": "FloatProgressModel",
            "bar_style": "",
            "max": 25,
            "_view_module": "@jupyter-widgets/controls",
            "_model_module_version": "1.5.0",
            "value": 24,
            "_view_count": null,
            "_view_module_version": "1.5.0",
            "orientation": "horizontal",
            "min": 0,
            "description_tooltip": null,
            "_model_module": "@jupyter-widgets/controls",
            "layout": "IPY_MODEL_363a64d5d7654ad8a44cc577364acaae"
          }
        },
        "f72264dac57942e5a201c20e5e0c847d": {
          "model_module": "@jupyter-widgets/controls",
          "model_name": "HTMLModel",
          "model_module_version": "1.5.0",
          "state": {
            "_view_name": "HTMLView",
            "style": "IPY_MODEL_2d06ceabada64161abd267fa57685dd3",
            "_dom_classes": [],
            "description": "",
            "_model_name": "HTMLModel",
            "placeholder": "​",
            "_view_module": "@jupyter-widgets/controls",
            "_model_module_version": "1.5.0",
            "value": " 24/25 [07:33&lt;00:01,  1.02s/it, acc=48.1, epoch=99, loss=1.78]",
            "_view_count": null,
            "_view_module_version": "1.5.0",
            "description_tooltip": null,
            "_model_module": "@jupyter-widgets/controls",
            "layout": "IPY_MODEL_2cff39ee15c842f78111f13c6641bfa0"
          }
        },
        "f11f4155dbee45da8e81780dba3d7ea3": {
          "model_module": "@jupyter-widgets/controls",
          "model_name": "DescriptionStyleModel",
          "model_module_version": "1.5.0",
          "state": {
            "_view_name": "StyleView",
            "_model_name": "DescriptionStyleModel",
            "description_width": "",
            "_view_module": "@jupyter-widgets/base",
            "_model_module_version": "1.5.0",
            "_view_count": null,
            "_view_module_version": "1.2.0",
            "_model_module": "@jupyter-widgets/controls"
          }
        },
        "09e86ef9e73246f594a521d0b1c40799": {
          "model_module": "@jupyter-widgets/base",
          "model_name": "LayoutModel",
          "model_module_version": "1.2.0",
          "state": {
            "_view_name": "LayoutView",
            "grid_template_rows": null,
            "right": null,
            "justify_content": null,
            "_view_module": "@jupyter-widgets/base",
            "overflow": null,
            "_model_module_version": "1.2.0",
            "_view_count": null,
            "flex_flow": null,
            "width": null,
            "min_width": null,
            "border": null,
            "align_items": null,
            "bottom": null,
            "_model_module": "@jupyter-widgets/base",
            "top": null,
            "grid_column": null,
            "overflow_y": null,
            "overflow_x": null,
            "grid_auto_flow": null,
            "grid_area": null,
            "grid_template_columns": null,
            "flex": null,
            "_model_name": "LayoutModel",
            "justify_items": null,
            "grid_row": null,
            "max_height": null,
            "align_content": null,
            "visibility": null,
            "align_self": null,
            "height": null,
            "min_height": null,
            "padding": null,
            "grid_auto_rows": null,
            "grid_gap": null,
            "max_width": null,
            "order": null,
            "_view_module_version": "1.2.0",
            "grid_template_areas": null,
            "object_position": null,
            "object_fit": null,
            "grid_auto_columns": null,
            "margin": null,
            "display": null,
            "left": null
          }
        },
        "c1d062dfbc8143fc81e50a51a2745609": {
          "model_module": "@jupyter-widgets/controls",
          "model_name": "ProgressStyleModel",
          "model_module_version": "1.5.0",
          "state": {
            "_view_name": "StyleView",
            "_model_name": "ProgressStyleModel",
            "description_width": "",
            "_view_module": "@jupyter-widgets/base",
            "_model_module_version": "1.5.0",
            "_view_count": null,
            "_view_module_version": "1.2.0",
            "bar_color": null,
            "_model_module": "@jupyter-widgets/controls"
          }
        },
        "363a64d5d7654ad8a44cc577364acaae": {
          "model_module": "@jupyter-widgets/base",
          "model_name": "LayoutModel",
          "model_module_version": "1.2.0",
          "state": {
            "_view_name": "LayoutView",
            "grid_template_rows": null,
            "right": null,
            "justify_content": null,
            "_view_module": "@jupyter-widgets/base",
            "overflow": null,
            "_model_module_version": "1.2.0",
            "_view_count": null,
            "flex_flow": null,
            "width": null,
            "min_width": null,
            "border": null,
            "align_items": null,
            "bottom": null,
            "_model_module": "@jupyter-widgets/base",
            "top": null,
            "grid_column": null,
            "overflow_y": null,
            "overflow_x": null,
            "grid_auto_flow": null,
            "grid_area": null,
            "grid_template_columns": null,
            "flex": null,
            "_model_name": "LayoutModel",
            "justify_items": null,
            "grid_row": null,
            "max_height": null,
            "align_content": null,
            "visibility": null,
            "align_self": null,
            "height": null,
            "min_height": null,
            "padding": null,
            "grid_auto_rows": null,
            "grid_gap": null,
            "max_width": null,
            "order": null,
            "_view_module_version": "1.2.0",
            "grid_template_areas": null,
            "object_position": null,
            "object_fit": null,
            "grid_auto_columns": null,
            "margin": null,
            "display": null,
            "left": null
          }
        },
        "2d06ceabada64161abd267fa57685dd3": {
          "model_module": "@jupyter-widgets/controls",
          "model_name": "DescriptionStyleModel",
          "model_module_version": "1.5.0",
          "state": {
            "_view_name": "StyleView",
            "_model_name": "DescriptionStyleModel",
            "description_width": "",
            "_view_module": "@jupyter-widgets/base",
            "_model_module_version": "1.5.0",
            "_view_count": null,
            "_view_module_version": "1.2.0",
            "_model_module": "@jupyter-widgets/controls"
          }
        },
        "2cff39ee15c842f78111f13c6641bfa0": {
          "model_module": "@jupyter-widgets/base",
          "model_name": "LayoutModel",
          "model_module_version": "1.2.0",
          "state": {
            "_view_name": "LayoutView",
            "grid_template_rows": null,
            "right": null,
            "justify_content": null,
            "_view_module": "@jupyter-widgets/base",
            "overflow": null,
            "_model_module_version": "1.2.0",
            "_view_count": null,
            "flex_flow": null,
            "width": null,
            "min_width": null,
            "border": null,
            "align_items": null,
            "bottom": null,
            "_model_module": "@jupyter-widgets/base",
            "top": null,
            "grid_column": null,
            "overflow_y": null,
            "overflow_x": null,
            "grid_auto_flow": null,
            "grid_area": null,
            "grid_template_columns": null,
            "flex": null,
            "_model_name": "LayoutModel",
            "justify_items": null,
            "grid_row": null,
            "max_height": null,
            "align_content": null,
            "visibility": null,
            "align_self": null,
            "height": null,
            "min_height": null,
            "padding": null,
            "grid_auto_rows": null,
            "grid_gap": null,
            "max_width": null,
            "order": null,
            "_view_module_version": "1.2.0",
            "grid_template_areas": null,
            "object_position": null,
            "object_fit": null,
            "grid_auto_columns": null,
            "margin": null,
            "display": null,
            "left": null
          }
        },
        "0c369f01c1fb4a66a6b89c381b0d4beb": {
          "model_module": "@jupyter-widgets/controls",
          "model_name": "HBoxModel",
          "model_module_version": "1.5.0",
          "state": {
            "_view_name": "HBoxView",
            "_dom_classes": [],
            "_model_name": "HBoxModel",
            "_view_module": "@jupyter-widgets/controls",
            "_model_module_version": "1.5.0",
            "_view_count": null,
            "_view_module_version": "1.5.0",
            "box_style": "",
            "layout": "IPY_MODEL_0119db67f2b84913b37472bb2743f669",
            "_model_module": "@jupyter-widgets/controls",
            "children": [
              "IPY_MODEL_293c7cbf77ed4119aa4260108d098cec",
              "IPY_MODEL_3458bb89763c43898f60b33b616443b7",
              "IPY_MODEL_efe9cefee08549c591311bb32b9349d4"
            ]
          }
        },
        "0119db67f2b84913b37472bb2743f669": {
          "model_module": "@jupyter-widgets/base",
          "model_name": "LayoutModel",
          "model_module_version": "1.2.0",
          "state": {
            "_view_name": "LayoutView",
            "grid_template_rows": null,
            "right": null,
            "justify_content": null,
            "_view_module": "@jupyter-widgets/base",
            "overflow": null,
            "_model_module_version": "1.2.0",
            "_view_count": null,
            "flex_flow": null,
            "width": null,
            "min_width": null,
            "border": null,
            "align_items": null,
            "bottom": null,
            "_model_module": "@jupyter-widgets/base",
            "top": null,
            "grid_column": null,
            "overflow_y": null,
            "overflow_x": null,
            "grid_auto_flow": null,
            "grid_area": null,
            "grid_template_columns": null,
            "flex": null,
            "_model_name": "LayoutModel",
            "justify_items": null,
            "grid_row": null,
            "max_height": null,
            "align_content": null,
            "visibility": null,
            "align_self": null,
            "height": null,
            "min_height": null,
            "padding": null,
            "grid_auto_rows": null,
            "grid_gap": null,
            "max_width": null,
            "order": null,
            "_view_module_version": "1.2.0",
            "grid_template_areas": null,
            "object_position": null,
            "object_fit": null,
            "grid_auto_columns": null,
            "margin": null,
            "display": null,
            "left": null
          }
        },
        "293c7cbf77ed4119aa4260108d098cec": {
          "model_module": "@jupyter-widgets/controls",
          "model_name": "HTMLModel",
          "model_module_version": "1.5.0",
          "state": {
            "_view_name": "HTMLView",
            "style": "IPY_MODEL_daa5d0f1a44c4cd38ffe1e2bbc38a71c",
            "_dom_classes": [],
            "description": "",
            "_model_name": "HTMLModel",
            "placeholder": "​",
            "_view_module": "@jupyter-widgets/controls",
            "_model_module_version": "1.5.0",
            "value": "training routine: 100%",
            "_view_count": null,
            "_view_module_version": "1.5.0",
            "description_tooltip": null,
            "_model_module": "@jupyter-widgets/controls",
            "layout": "IPY_MODEL_9f9ca297bc4d4691ba41f6e2ddde1cc4"
          }
        },
        "3458bb89763c43898f60b33b616443b7": {
          "model_module": "@jupyter-widgets/controls",
          "model_name": "FloatProgressModel",
          "model_module_version": "1.5.0",
          "state": {
            "_view_name": "ProgressView",
            "style": "IPY_MODEL_3bc6679989274066a6eff1d3b548427d",
            "_dom_classes": [],
            "description": "",
            "_model_name": "FloatProgressModel",
            "bar_style": "",
            "max": 100,
            "_view_module": "@jupyter-widgets/controls",
            "_model_module_version": "1.5.0",
            "value": 100,
            "_view_count": null,
            "_view_module_version": "1.5.0",
            "orientation": "horizontal",
            "min": 0,
            "description_tooltip": null,
            "_model_module": "@jupyter-widgets/controls",
            "layout": "IPY_MODEL_55b86813d9764f22854c3ba4c5925bcc"
          }
        },
        "efe9cefee08549c591311bb32b9349d4": {
          "model_module": "@jupyter-widgets/controls",
          "model_name": "HTMLModel",
          "model_module_version": "1.5.0",
          "state": {
            "_view_name": "HTMLView",
            "style": "IPY_MODEL_1fdb437f7fea44c9b511efa42131077a",
            "_dom_classes": [],
            "description": "",
            "_model_name": "HTMLModel",
            "placeholder": "​",
            "_view_module": "@jupyter-widgets/controls",
            "_model_module_version": "1.5.0",
            "value": " 100/100 [03:57&lt;00:00,  2.35s/it]",
            "_view_count": null,
            "_view_module_version": "1.5.0",
            "description_tooltip": null,
            "_model_module": "@jupyter-widgets/controls",
            "layout": "IPY_MODEL_ace5b321e6a14e28b15b716e4e9f1661"
          }
        },
        "daa5d0f1a44c4cd38ffe1e2bbc38a71c": {
          "model_module": "@jupyter-widgets/controls",
          "model_name": "DescriptionStyleModel",
          "model_module_version": "1.5.0",
          "state": {
            "_view_name": "StyleView",
            "_model_name": "DescriptionStyleModel",
            "description_width": "",
            "_view_module": "@jupyter-widgets/base",
            "_model_module_version": "1.5.0",
            "_view_count": null,
            "_view_module_version": "1.2.0",
            "_model_module": "@jupyter-widgets/controls"
          }
        },
        "9f9ca297bc4d4691ba41f6e2ddde1cc4": {
          "model_module": "@jupyter-widgets/base",
          "model_name": "LayoutModel",
          "model_module_version": "1.2.0",
          "state": {
            "_view_name": "LayoutView",
            "grid_template_rows": null,
            "right": null,
            "justify_content": null,
            "_view_module": "@jupyter-widgets/base",
            "overflow": null,
            "_model_module_version": "1.2.0",
            "_view_count": null,
            "flex_flow": null,
            "width": null,
            "min_width": null,
            "border": null,
            "align_items": null,
            "bottom": null,
            "_model_module": "@jupyter-widgets/base",
            "top": null,
            "grid_column": null,
            "overflow_y": null,
            "overflow_x": null,
            "grid_auto_flow": null,
            "grid_area": null,
            "grid_template_columns": null,
            "flex": null,
            "_model_name": "LayoutModel",
            "justify_items": null,
            "grid_row": null,
            "max_height": null,
            "align_content": null,
            "visibility": null,
            "align_self": null,
            "height": null,
            "min_height": null,
            "padding": null,
            "grid_auto_rows": null,
            "grid_gap": null,
            "max_width": null,
            "order": null,
            "_view_module_version": "1.2.0",
            "grid_template_areas": null,
            "object_position": null,
            "object_fit": null,
            "grid_auto_columns": null,
            "margin": null,
            "display": null,
            "left": null
          }
        },
        "3bc6679989274066a6eff1d3b548427d": {
          "model_module": "@jupyter-widgets/controls",
          "model_name": "ProgressStyleModel",
          "model_module_version": "1.5.0",
          "state": {
            "_view_name": "StyleView",
            "_model_name": "ProgressStyleModel",
            "description_width": "",
            "_view_module": "@jupyter-widgets/base",
            "_model_module_version": "1.5.0",
            "_view_count": null,
            "_view_module_version": "1.2.0",
            "bar_color": null,
            "_model_module": "@jupyter-widgets/controls"
          }
        },
        "55b86813d9764f22854c3ba4c5925bcc": {
          "model_module": "@jupyter-widgets/base",
          "model_name": "LayoutModel",
          "model_module_version": "1.2.0",
          "state": {
            "_view_name": "LayoutView",
            "grid_template_rows": null,
            "right": null,
            "justify_content": null,
            "_view_module": "@jupyter-widgets/base",
            "overflow": null,
            "_model_module_version": "1.2.0",
            "_view_count": null,
            "flex_flow": null,
            "width": null,
            "min_width": null,
            "border": null,
            "align_items": null,
            "bottom": null,
            "_model_module": "@jupyter-widgets/base",
            "top": null,
            "grid_column": null,
            "overflow_y": null,
            "overflow_x": null,
            "grid_auto_flow": null,
            "grid_area": null,
            "grid_template_columns": null,
            "flex": null,
            "_model_name": "LayoutModel",
            "justify_items": null,
            "grid_row": null,
            "max_height": null,
            "align_content": null,
            "visibility": null,
            "align_self": null,
            "height": null,
            "min_height": null,
            "padding": null,
            "grid_auto_rows": null,
            "grid_gap": null,
            "max_width": null,
            "order": null,
            "_view_module_version": "1.2.0",
            "grid_template_areas": null,
            "object_position": null,
            "object_fit": null,
            "grid_auto_columns": null,
            "margin": null,
            "display": null,
            "left": null
          }
        },
        "1fdb437f7fea44c9b511efa42131077a": {
          "model_module": "@jupyter-widgets/controls",
          "model_name": "DescriptionStyleModel",
          "model_module_version": "1.5.0",
          "state": {
            "_view_name": "StyleView",
            "_model_name": "DescriptionStyleModel",
            "description_width": "",
            "_view_module": "@jupyter-widgets/base",
            "_model_module_version": "1.5.0",
            "_view_count": null,
            "_view_module_version": "1.2.0",
            "_model_module": "@jupyter-widgets/controls"
          }
        },
        "ace5b321e6a14e28b15b716e4e9f1661": {
          "model_module": "@jupyter-widgets/base",
          "model_name": "LayoutModel",
          "model_module_version": "1.2.0",
          "state": {
            "_view_name": "LayoutView",
            "grid_template_rows": null,
            "right": null,
            "justify_content": null,
            "_view_module": "@jupyter-widgets/base",
            "overflow": null,
            "_model_module_version": "1.2.0",
            "_view_count": null,
            "flex_flow": null,
            "width": null,
            "min_width": null,
            "border": null,
            "align_items": null,
            "bottom": null,
            "_model_module": "@jupyter-widgets/base",
            "top": null,
            "grid_column": null,
            "overflow_y": null,
            "overflow_x": null,
            "grid_auto_flow": null,
            "grid_area": null,
            "grid_template_columns": null,
            "flex": null,
            "_model_name": "LayoutModel",
            "justify_items": null,
            "grid_row": null,
            "max_height": null,
            "align_content": null,
            "visibility": null,
            "align_self": null,
            "height": null,
            "min_height": null,
            "padding": null,
            "grid_auto_rows": null,
            "grid_gap": null,
            "max_width": null,
            "order": null,
            "_view_module_version": "1.2.0",
            "grid_template_areas": null,
            "object_position": null,
            "object_fit": null,
            "grid_auto_columns": null,
            "margin": null,
            "display": null,
            "left": null
          }
        },
        "b18d420043f64f0d9acb1ca33fb48c09": {
          "model_module": "@jupyter-widgets/controls",
          "model_name": "HBoxModel",
          "model_module_version": "1.5.0",
          "state": {
            "_view_name": "HBoxView",
            "_dom_classes": [],
            "_model_name": "HBoxModel",
            "_view_module": "@jupyter-widgets/controls",
            "_model_module_version": "1.5.0",
            "_view_count": null,
            "_view_module_version": "1.5.0",
            "box_style": "",
            "layout": "IPY_MODEL_0a80b1881c6840b4837b939846cab8de",
            "_model_module": "@jupyter-widgets/controls",
            "children": [
              "IPY_MODEL_b2734b505cc04abb8b7d2e7782452e2c",
              "IPY_MODEL_dc149956b16a4c739bae02cdf907387a",
              "IPY_MODEL_babf5f1d233148a0ae5709c7cc66f41e"
            ]
          }
        },
        "0a80b1881c6840b4837b939846cab8de": {
          "model_module": "@jupyter-widgets/base",
          "model_name": "LayoutModel",
          "model_module_version": "1.2.0",
          "state": {
            "_view_name": "LayoutView",
            "grid_template_rows": null,
            "right": null,
            "justify_content": null,
            "_view_module": "@jupyter-widgets/base",
            "overflow": null,
            "_model_module_version": "1.2.0",
            "_view_count": null,
            "flex_flow": null,
            "width": null,
            "min_width": null,
            "border": null,
            "align_items": null,
            "bottom": null,
            "_model_module": "@jupyter-widgets/base",
            "top": null,
            "grid_column": null,
            "overflow_y": null,
            "overflow_x": null,
            "grid_auto_flow": null,
            "grid_area": null,
            "grid_template_columns": null,
            "flex": null,
            "_model_name": "LayoutModel",
            "justify_items": null,
            "grid_row": null,
            "max_height": null,
            "align_content": null,
            "visibility": null,
            "align_self": null,
            "height": null,
            "min_height": null,
            "padding": null,
            "grid_auto_rows": null,
            "grid_gap": null,
            "max_width": null,
            "order": null,
            "_view_module_version": "1.2.0",
            "grid_template_areas": null,
            "object_position": null,
            "object_fit": null,
            "grid_auto_columns": null,
            "margin": null,
            "display": null,
            "left": null
          }
        },
        "b2734b505cc04abb8b7d2e7782452e2c": {
          "model_module": "@jupyter-widgets/controls",
          "model_name": "HTMLModel",
          "model_module_version": "1.5.0",
          "state": {
            "_view_name": "HTMLView",
            "style": "IPY_MODEL_a2ab8805fc8b460c83dd59646890b46c",
            "_dom_classes": [],
            "description": "",
            "_model_name": "HTMLModel",
            "placeholder": "​",
            "_view_module": "@jupyter-widgets/controls",
            "_model_module_version": "1.5.0",
            "value": "split=train:  98%",
            "_view_count": null,
            "_view_module_version": "1.5.0",
            "description_tooltip": null,
            "_model_module": "@jupyter-widgets/controls",
            "layout": "IPY_MODEL_183f88ef172b47bf82097de672b7ef2e"
          }
        },
        "dc149956b16a4c739bae02cdf907387a": {
          "model_module": "@jupyter-widgets/controls",
          "model_name": "FloatProgressModel",
          "model_module_version": "1.5.0",
          "state": {
            "_view_name": "ProgressView",
            "style": "IPY_MODEL_4cc155f13b75486285e10db21eac5e27",
            "_dom_classes": [],
            "description": "",
            "_model_name": "FloatProgressModel",
            "bar_style": "",
            "max": 60,
            "_view_module": "@jupyter-widgets/controls",
            "_model_module_version": "1.5.0",
            "value": 59,
            "_view_count": null,
            "_view_module_version": "1.5.0",
            "orientation": "horizontal",
            "min": 0,
            "description_tooltip": null,
            "_model_module": "@jupyter-widgets/controls",
            "layout": "IPY_MODEL_25266595c5b14a75bacdb39c9cd86793"
          }
        },
        "babf5f1d233148a0ae5709c7cc66f41e": {
          "model_module": "@jupyter-widgets/controls",
          "model_name": "HTMLModel",
          "model_module_version": "1.5.0",
          "state": {
            "_view_name": "HTMLView",
            "style": "IPY_MODEL_14b41bcd309747229272a1fd24bcf607",
            "_dom_classes": [],
            "description": "",
            "_model_name": "HTMLModel",
            "placeholder": "​",
            "_view_module": "@jupyter-widgets/controls",
            "_model_module_version": "1.5.0",
            "value": " 59/60 [03:57&lt;00:00, 30.09it/s, acc=58.5, epoch=99, loss=1.01]",
            "_view_count": null,
            "_view_module_version": "1.5.0",
            "description_tooltip": null,
            "_model_module": "@jupyter-widgets/controls",
            "layout": "IPY_MODEL_af4fd34ff3b7481b9fd24d722572bb90"
          }
        },
        "a2ab8805fc8b460c83dd59646890b46c": {
          "model_module": "@jupyter-widgets/controls",
          "model_name": "DescriptionStyleModel",
          "model_module_version": "1.5.0",
          "state": {
            "_view_name": "StyleView",
            "_model_name": "DescriptionStyleModel",
            "description_width": "",
            "_view_module": "@jupyter-widgets/base",
            "_model_module_version": "1.5.0",
            "_view_count": null,
            "_view_module_version": "1.2.0",
            "_model_module": "@jupyter-widgets/controls"
          }
        },
        "183f88ef172b47bf82097de672b7ef2e": {
          "model_module": "@jupyter-widgets/base",
          "model_name": "LayoutModel",
          "model_module_version": "1.2.0",
          "state": {
            "_view_name": "LayoutView",
            "grid_template_rows": null,
            "right": null,
            "justify_content": null,
            "_view_module": "@jupyter-widgets/base",
            "overflow": null,
            "_model_module_version": "1.2.0",
            "_view_count": null,
            "flex_flow": null,
            "width": null,
            "min_width": null,
            "border": null,
            "align_items": null,
            "bottom": null,
            "_model_module": "@jupyter-widgets/base",
            "top": null,
            "grid_column": null,
            "overflow_y": null,
            "overflow_x": null,
            "grid_auto_flow": null,
            "grid_area": null,
            "grid_template_columns": null,
            "flex": null,
            "_model_name": "LayoutModel",
            "justify_items": null,
            "grid_row": null,
            "max_height": null,
            "align_content": null,
            "visibility": null,
            "align_self": null,
            "height": null,
            "min_height": null,
            "padding": null,
            "grid_auto_rows": null,
            "grid_gap": null,
            "max_width": null,
            "order": null,
            "_view_module_version": "1.2.0",
            "grid_template_areas": null,
            "object_position": null,
            "object_fit": null,
            "grid_auto_columns": null,
            "margin": null,
            "display": null,
            "left": null
          }
        },
        "4cc155f13b75486285e10db21eac5e27": {
          "model_module": "@jupyter-widgets/controls",
          "model_name": "ProgressStyleModel",
          "model_module_version": "1.5.0",
          "state": {
            "_view_name": "StyleView",
            "_model_name": "ProgressStyleModel",
            "description_width": "",
            "_view_module": "@jupyter-widgets/base",
            "_model_module_version": "1.5.0",
            "_view_count": null,
            "_view_module_version": "1.2.0",
            "bar_color": null,
            "_model_module": "@jupyter-widgets/controls"
          }
        },
        "25266595c5b14a75bacdb39c9cd86793": {
          "model_module": "@jupyter-widgets/base",
          "model_name": "LayoutModel",
          "model_module_version": "1.2.0",
          "state": {
            "_view_name": "LayoutView",
            "grid_template_rows": null,
            "right": null,
            "justify_content": null,
            "_view_module": "@jupyter-widgets/base",
            "overflow": null,
            "_model_module_version": "1.2.0",
            "_view_count": null,
            "flex_flow": null,
            "width": null,
            "min_width": null,
            "border": null,
            "align_items": null,
            "bottom": null,
            "_model_module": "@jupyter-widgets/base",
            "top": null,
            "grid_column": null,
            "overflow_y": null,
            "overflow_x": null,
            "grid_auto_flow": null,
            "grid_area": null,
            "grid_template_columns": null,
            "flex": null,
            "_model_name": "LayoutModel",
            "justify_items": null,
            "grid_row": null,
            "max_height": null,
            "align_content": null,
            "visibility": null,
            "align_self": null,
            "height": null,
            "min_height": null,
            "padding": null,
            "grid_auto_rows": null,
            "grid_gap": null,
            "max_width": null,
            "order": null,
            "_view_module_version": "1.2.0",
            "grid_template_areas": null,
            "object_position": null,
            "object_fit": null,
            "grid_auto_columns": null,
            "margin": null,
            "display": null,
            "left": null
          }
        },
        "14b41bcd309747229272a1fd24bcf607": {
          "model_module": "@jupyter-widgets/controls",
          "model_name": "DescriptionStyleModel",
          "model_module_version": "1.5.0",
          "state": {
            "_view_name": "StyleView",
            "_model_name": "DescriptionStyleModel",
            "description_width": "",
            "_view_module": "@jupyter-widgets/base",
            "_model_module_version": "1.5.0",
            "_view_count": null,
            "_view_module_version": "1.2.0",
            "_model_module": "@jupyter-widgets/controls"
          }
        },
        "af4fd34ff3b7481b9fd24d722572bb90": {
          "model_module": "@jupyter-widgets/base",
          "model_name": "LayoutModel",
          "model_module_version": "1.2.0",
          "state": {
            "_view_name": "LayoutView",
            "grid_template_rows": null,
            "right": null,
            "justify_content": null,
            "_view_module": "@jupyter-widgets/base",
            "overflow": null,
            "_model_module_version": "1.2.0",
            "_view_count": null,
            "flex_flow": null,
            "width": null,
            "min_width": null,
            "border": null,
            "align_items": null,
            "bottom": null,
            "_model_module": "@jupyter-widgets/base",
            "top": null,
            "grid_column": null,
            "overflow_y": null,
            "overflow_x": null,
            "grid_auto_flow": null,
            "grid_area": null,
            "grid_template_columns": null,
            "flex": null,
            "_model_name": "LayoutModel",
            "justify_items": null,
            "grid_row": null,
            "max_height": null,
            "align_content": null,
            "visibility": null,
            "align_self": null,
            "height": null,
            "min_height": null,
            "padding": null,
            "grid_auto_rows": null,
            "grid_gap": null,
            "max_width": null,
            "order": null,
            "_view_module_version": "1.2.0",
            "grid_template_areas": null,
            "object_position": null,
            "object_fit": null,
            "grid_auto_columns": null,
            "margin": null,
            "display": null,
            "left": null
          }
        },
        "6c2b61423dc248ceaf26ec2749cffbef": {
          "model_module": "@jupyter-widgets/controls",
          "model_name": "HBoxModel",
          "model_module_version": "1.5.0",
          "state": {
            "_view_name": "HBoxView",
            "_dom_classes": [],
            "_model_name": "HBoxModel",
            "_view_module": "@jupyter-widgets/controls",
            "_model_module_version": "1.5.0",
            "_view_count": null,
            "_view_module_version": "1.5.0",
            "box_style": "",
            "layout": "IPY_MODEL_557daf2534794e97ba58420c1975a891",
            "_model_module": "@jupyter-widgets/controls",
            "children": [
              "IPY_MODEL_58c0a0d3d4e147eab2122be4f15e322e",
              "IPY_MODEL_a5ec11a2b57042ce88a47cd2fe4deb5a",
              "IPY_MODEL_2995f1a0f34148c0a83eb33dec20b0bc"
            ]
          }
        },
        "557daf2534794e97ba58420c1975a891": {
          "model_module": "@jupyter-widgets/base",
          "model_name": "LayoutModel",
          "model_module_version": "1.2.0",
          "state": {
            "_view_name": "LayoutView",
            "grid_template_rows": null,
            "right": null,
            "justify_content": null,
            "_view_module": "@jupyter-widgets/base",
            "overflow": null,
            "_model_module_version": "1.2.0",
            "_view_count": null,
            "flex_flow": null,
            "width": null,
            "min_width": null,
            "border": null,
            "align_items": null,
            "bottom": null,
            "_model_module": "@jupyter-widgets/base",
            "top": null,
            "grid_column": null,
            "overflow_y": null,
            "overflow_x": null,
            "grid_auto_flow": null,
            "grid_area": null,
            "grid_template_columns": null,
            "flex": null,
            "_model_name": "LayoutModel",
            "justify_items": null,
            "grid_row": null,
            "max_height": null,
            "align_content": null,
            "visibility": null,
            "align_self": null,
            "height": null,
            "min_height": null,
            "padding": null,
            "grid_auto_rows": null,
            "grid_gap": null,
            "max_width": null,
            "order": null,
            "_view_module_version": "1.2.0",
            "grid_template_areas": null,
            "object_position": null,
            "object_fit": null,
            "grid_auto_columns": null,
            "margin": null,
            "display": null,
            "left": null
          }
        },
        "58c0a0d3d4e147eab2122be4f15e322e": {
          "model_module": "@jupyter-widgets/controls",
          "model_name": "HTMLModel",
          "model_module_version": "1.5.0",
          "state": {
            "_view_name": "HTMLView",
            "style": "IPY_MODEL_41d769f84f1e41c78c3f53784d453005",
            "_dom_classes": [],
            "description": "",
            "_model_name": "HTMLModel",
            "placeholder": "​",
            "_view_module": "@jupyter-widgets/controls",
            "_model_module_version": "1.5.0",
            "value": "split=val:  92%",
            "_view_count": null,
            "_view_module_version": "1.5.0",
            "description_tooltip": null,
            "_model_module": "@jupyter-widgets/controls",
            "layout": "IPY_MODEL_a15c46cc524b4897a8bc0dd975d6a775"
          }
        },
        "a5ec11a2b57042ce88a47cd2fe4deb5a": {
          "model_module": "@jupyter-widgets/controls",
          "model_name": "FloatProgressModel",
          "model_module_version": "1.5.0",
          "state": {
            "_view_name": "ProgressView",
            "style": "IPY_MODEL_5f808a2672a6487caf8084d06d571a9a",
            "_dom_classes": [],
            "description": "",
            "_model_name": "FloatProgressModel",
            "bar_style": "",
            "max": 12,
            "_view_module": "@jupyter-widgets/controls",
            "_model_module_version": "1.5.0",
            "value": 11,
            "_view_count": null,
            "_view_module_version": "1.5.0",
            "orientation": "horizontal",
            "min": 0,
            "description_tooltip": null,
            "_model_module": "@jupyter-widgets/controls",
            "layout": "IPY_MODEL_013809e773e14b949809108dfe531f55"
          }
        },
        "2995f1a0f34148c0a83eb33dec20b0bc": {
          "model_module": "@jupyter-widgets/controls",
          "model_name": "HTMLModel",
          "model_module_version": "1.5.0",
          "state": {
            "_view_name": "HTMLView",
            "style": "IPY_MODEL_e4187a304c9b4469ab2cabc1b49db055",
            "_dom_classes": [],
            "description": "",
            "_model_name": "HTMLModel",
            "placeholder": "​",
            "_view_module": "@jupyter-widgets/controls",
            "_model_module_version": "1.5.0",
            "value": " 11/12 [03:57&lt;00:00,  1.82it/s, acc=50.3, epoch=99, loss=1.71]",
            "_view_count": null,
            "_view_module_version": "1.5.0",
            "description_tooltip": null,
            "_model_module": "@jupyter-widgets/controls",
            "layout": "IPY_MODEL_7eba7c03b672482ba464174b5a8ad756"
          }
        },
        "41d769f84f1e41c78c3f53784d453005": {
          "model_module": "@jupyter-widgets/controls",
          "model_name": "DescriptionStyleModel",
          "model_module_version": "1.5.0",
          "state": {
            "_view_name": "StyleView",
            "_model_name": "DescriptionStyleModel",
            "description_width": "",
            "_view_module": "@jupyter-widgets/base",
            "_model_module_version": "1.5.0",
            "_view_count": null,
            "_view_module_version": "1.2.0",
            "_model_module": "@jupyter-widgets/controls"
          }
        },
        "a15c46cc524b4897a8bc0dd975d6a775": {
          "model_module": "@jupyter-widgets/base",
          "model_name": "LayoutModel",
          "model_module_version": "1.2.0",
          "state": {
            "_view_name": "LayoutView",
            "grid_template_rows": null,
            "right": null,
            "justify_content": null,
            "_view_module": "@jupyter-widgets/base",
            "overflow": null,
            "_model_module_version": "1.2.0",
            "_view_count": null,
            "flex_flow": null,
            "width": null,
            "min_width": null,
            "border": null,
            "align_items": null,
            "bottom": null,
            "_model_module": "@jupyter-widgets/base",
            "top": null,
            "grid_column": null,
            "overflow_y": null,
            "overflow_x": null,
            "grid_auto_flow": null,
            "grid_area": null,
            "grid_template_columns": null,
            "flex": null,
            "_model_name": "LayoutModel",
            "justify_items": null,
            "grid_row": null,
            "max_height": null,
            "align_content": null,
            "visibility": null,
            "align_self": null,
            "height": null,
            "min_height": null,
            "padding": null,
            "grid_auto_rows": null,
            "grid_gap": null,
            "max_width": null,
            "order": null,
            "_view_module_version": "1.2.0",
            "grid_template_areas": null,
            "object_position": null,
            "object_fit": null,
            "grid_auto_columns": null,
            "margin": null,
            "display": null,
            "left": null
          }
        },
        "5f808a2672a6487caf8084d06d571a9a": {
          "model_module": "@jupyter-widgets/controls",
          "model_name": "ProgressStyleModel",
          "model_module_version": "1.5.0",
          "state": {
            "_view_name": "StyleView",
            "_model_name": "ProgressStyleModel",
            "description_width": "",
            "_view_module": "@jupyter-widgets/base",
            "_model_module_version": "1.5.0",
            "_view_count": null,
            "_view_module_version": "1.2.0",
            "bar_color": null,
            "_model_module": "@jupyter-widgets/controls"
          }
        },
        "013809e773e14b949809108dfe531f55": {
          "model_module": "@jupyter-widgets/base",
          "model_name": "LayoutModel",
          "model_module_version": "1.2.0",
          "state": {
            "_view_name": "LayoutView",
            "grid_template_rows": null,
            "right": null,
            "justify_content": null,
            "_view_module": "@jupyter-widgets/base",
            "overflow": null,
            "_model_module_version": "1.2.0",
            "_view_count": null,
            "flex_flow": null,
            "width": null,
            "min_width": null,
            "border": null,
            "align_items": null,
            "bottom": null,
            "_model_module": "@jupyter-widgets/base",
            "top": null,
            "grid_column": null,
            "overflow_y": null,
            "overflow_x": null,
            "grid_auto_flow": null,
            "grid_area": null,
            "grid_template_columns": null,
            "flex": null,
            "_model_name": "LayoutModel",
            "justify_items": null,
            "grid_row": null,
            "max_height": null,
            "align_content": null,
            "visibility": null,
            "align_self": null,
            "height": null,
            "min_height": null,
            "padding": null,
            "grid_auto_rows": null,
            "grid_gap": null,
            "max_width": null,
            "order": null,
            "_view_module_version": "1.2.0",
            "grid_template_areas": null,
            "object_position": null,
            "object_fit": null,
            "grid_auto_columns": null,
            "margin": null,
            "display": null,
            "left": null
          }
        },
        "e4187a304c9b4469ab2cabc1b49db055": {
          "model_module": "@jupyter-widgets/controls",
          "model_name": "DescriptionStyleModel",
          "model_module_version": "1.5.0",
          "state": {
            "_view_name": "StyleView",
            "_model_name": "DescriptionStyleModel",
            "description_width": "",
            "_view_module": "@jupyter-widgets/base",
            "_model_module_version": "1.5.0",
            "_view_count": null,
            "_view_module_version": "1.2.0",
            "_model_module": "@jupyter-widgets/controls"
          }
        },
        "7eba7c03b672482ba464174b5a8ad756": {
          "model_module": "@jupyter-widgets/base",
          "model_name": "LayoutModel",
          "model_module_version": "1.2.0",
          "state": {
            "_view_name": "LayoutView",
            "grid_template_rows": null,
            "right": null,
            "justify_content": null,
            "_view_module": "@jupyter-widgets/base",
            "overflow": null,
            "_model_module_version": "1.2.0",
            "_view_count": null,
            "flex_flow": null,
            "width": null,
            "min_width": null,
            "border": null,
            "align_items": null,
            "bottom": null,
            "_model_module": "@jupyter-widgets/base",
            "top": null,
            "grid_column": null,
            "overflow_y": null,
            "overflow_x": null,
            "grid_auto_flow": null,
            "grid_area": null,
            "grid_template_columns": null,
            "flex": null,
            "_model_name": "LayoutModel",
            "justify_items": null,
            "grid_row": null,
            "max_height": null,
            "align_content": null,
            "visibility": null,
            "align_self": null,
            "height": null,
            "min_height": null,
            "padding": null,
            "grid_auto_rows": null,
            "grid_gap": null,
            "max_width": null,
            "order": null,
            "_view_module_version": "1.2.0",
            "grid_template_areas": null,
            "object_position": null,
            "object_fit": null,
            "grid_auto_columns": null,
            "margin": null,
            "display": null,
            "left": null
          }
        }
      }
    }
  },
  "cells": [
    {
      "cell_type": "markdown",
      "metadata": {
        "id": "view-in-github",
        "colab_type": "text"
      },
      "source": [
        "<a href=\"https://colab.research.google.com/github/Ga-Young-Ahn/Study/blob/main/CH4_%EC%9E%90%EC%97%B0%EC%96%B4_%EC%B2%98%EB%A6%AC%EB%A5%BC_%EC%9C%84%ED%95%9C_%ED%94%BC%EB%93%9C_%ED%8F%AC%EC%9B%8C%EB%93%9C_%EC%8B%A0%EA%B2%BD%EB%A7%9D.ipynb\" target=\"_parent\"><img src=\"https://colab.research.google.com/assets/colab-badge.svg\" alt=\"Open In Colab\"/></a>"
      ]
    },
    {
      "cell_type": "markdown",
      "source": [
        "# 4 자연어 처리를 위한 피드 포워드 신경망\n",
        "## 4.1 다층 퍼셉트론\n",
        "![image.png](data:image/png;base64,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)"
      ],
      "metadata": {
        "id": "zwJ8mlmM5w4R"
      }
    },
    {
      "cell_type": "code",
      "execution_count": null,
      "metadata": {
        "id": "jf4nYvBs4cBH"
      },
      "outputs": [],
      "source": [
        "### 파이토치를 사용한 MLP\n",
        "import torch.nn as nn\n",
        "import torch.nn.functional as F\n",
        "\n",
        "class MultilayerPerceptron(nn.Module):\n",
        "  def __init__(self, input_dim, hidden_dim, output_dim):\n",
        "    \"\"\"\n",
        "    매개변수\n",
        "        input_dim (int): 입력 벡터 크기\n",
        "        hidden_dim (int): 첫 번째 Linear 층의 출력 크기\n",
        "        output_dim (int): 두 번째 Linear 층의 출력 크기\n",
        "    \"\"\"\n",
        "    super(MultilayerPerceptron, self).__init__()\n",
        "    self.fc1 = nn.Linear(input_dim, hidden_dim)\n",
        "    self.fc2 = nn.Linear(hidden_dim, output_dim)\n",
        "\n",
        "  \n",
        "  def forward(self, x_in, apply_softmax=False):\n",
        "    \"\"\"\n",
        "    MLP의 정방향 계산\n",
        "    매개변수\n",
        "        x_in (torch.Tensor): 입력 데이터 텐서, x_in.shape는 (batch, input_dim)이다.\n",
        "        apply_softmax (bool): 소프트맥스 활성화 함수를 위한 플래그, 크로스 엔트로피 손실 사용하려면 False\n",
        "    반환값\n",
        "        결과 텐서. tensor.shape는 (batch, output_dim)이다.\n",
        "    \"\"\"\n",
        "    intermediate = F.relu(self.fc1(x_in))\n",
        "    output = self.fc2(intermediate)\n",
        "\n",
        "    if apply_softmax:\n",
        "      output = F.softmax(output, dim=1)\n",
        "    return output"
      ]
    },
    {
      "cell_type": "code",
      "source": [
        "### MLP 객체 생성\n",
        "batch_size = 2  #한 번에 입력할 샘플 개수\n",
        "input_dim = 3\n",
        "hidden_dim = 100\n",
        "output_dim = 4\n",
        "\n",
        "# 모델 생성\n",
        "mlp = MultilayerPerceptron(input_dim, hidden_dim, output_dim)\n",
        "print(mlp)"
      ],
      "metadata": {
        "colab": {
          "base_uri": "https://localhost:8080/"
        },
        "id": "ZUNdrh-p7wLI",
        "outputId": "b7b2a243-571c-4213-b42c-2575cdcbb6f5"
      },
      "execution_count": null,
      "outputs": [
        {
          "output_type": "stream",
          "name": "stdout",
          "text": [
            "MultilayerPerceptron(\n",
            "  (fc1): Linear(in_features=3, out_features=100, bias=True)\n",
            "  (fc2): Linear(in_features=100, out_features=4, bias=True)\n",
            ")\n"
          ]
        }
      ]
    },
    {
      "cell_type": "code",
      "source": [
        "### 랜덤한 입력으로 MLP 테스트하기\n",
        "import torch\n",
        "def describe(x):\n",
        "  print(\"타입: {}\".format(x.type()))\n",
        "  print(\"크기: {}\".format(x.shape))\n",
        "  print(\"값: \\n{}\".format(x))\n",
        "\n",
        "x_input = torch.rand(batch_size, input_dim)\n",
        "describe(x_input)"
      ],
      "metadata": {
        "colab": {
          "base_uri": "https://localhost:8080/"
        },
        "id": "_eCSmusp8Dz5",
        "outputId": "542140cc-6fa9-4ff2-d062-eab44983f392"
      },
      "execution_count": null,
      "outputs": [
        {
          "output_type": "stream",
          "name": "stdout",
          "text": [
            "타입: torch.FloatTensor\n",
            "크기: torch.Size([2, 3])\n",
            "값: \n",
            "tensor([[0.2506, 0.5390, 0.9070],\n",
            "        [0.1977, 0.1565, 0.6408]])\n"
          ]
        }
      ]
    },
    {
      "cell_type": "code",
      "source": [
        "y_output = mlp(x_input, apply_softmax=False)\n",
        "describe(y_output)"
      ],
      "metadata": {
        "colab": {
          "base_uri": "https://localhost:8080/"
        },
        "id": "DMkkbHiC8eGA",
        "outputId": "f9b25fb8-3678-453d-cf59-ebba59b4b4f4"
      },
      "execution_count": null,
      "outputs": [
        {
          "output_type": "stream",
          "name": "stdout",
          "text": [
            "타입: torch.FloatTensor\n",
            "크기: torch.Size([2, 4])\n",
            "값: \n",
            "tensor([[-0.1105, -0.2299, -0.3040, -0.0216],\n",
            "        [-0.0737, -0.2339, -0.1928,  0.0059]], grad_fn=<AddmmBackward0>)\n"
          ]
        }
      ]
    },
    {
      "cell_type": "code",
      "source": [
        "### MLP 분류기로 확률 출력하기 (apply_softmax=True)\n",
        "y_output = mlp(x_input, apply_softmax=True)\n",
        "describe(y_output)"
      ],
      "metadata": {
        "colab": {
          "base_uri": "https://localhost:8080/"
        },
        "id": "c-vomiM48eZg",
        "outputId": "416a8635-584f-48b3-e329-f76e6dc6c1b8"
      },
      "execution_count": null,
      "outputs": [
        {
          "output_type": "stream",
          "name": "stdout",
          "text": [
            "타입: torch.FloatTensor\n",
            "크기: torch.Size([2, 4])\n",
            "값: \n",
            "tensor([[0.2628, 0.2333, 0.2166, 0.2873],\n",
            "        [0.2616, 0.2229, 0.2322, 0.2833]], grad_fn=<SoftmaxBackward0>)\n"
          ]
        }
      ]
    },
    {
      "cell_type": "markdown",
      "source": [
        "## 4.2 예제: MLP로 성씨 분류하기\n",
        "\n",
        "MLP 구현과 훈련은 3장 퍼셉트론 구현과 훈련의 반복임"
      ],
      "metadata": {
        "id": "C672CBl7644_"
      }
    },
    {
      "cell_type": "code",
      "source": [
        "from argparse import Namespace\n",
        "from collections import Counter\n",
        "import json\n",
        "import os\n",
        "import string\n",
        "\n",
        "import numpy as np\n",
        "import pandas as pd\n",
        "\n",
        "import torch\n",
        "import torch.nn as nn\n",
        "import torch.nn.functional as F\n",
        "import torch.optim as optim\n",
        "from torch.utils.data import Dataset, DataLoader\n",
        "import tqdm"
      ],
      "metadata": {
        "id": "8jGb-RZDDo9w"
      },
      "execution_count": null,
      "outputs": []
    },
    {
      "cell_type": "code",
      "source": [
        "class SurnameDataset(Dataset):\n",
        "  def __getitem__(self, index):\n",
        "    row = self._target_df.iloc[index]\n",
        "    surname_vector = self._vectorizer.vectorize(row.surname)\n",
        "    nationality_index = self._vectorizer.nationality_vocab.lookup_token(row.nationality)\n",
        "\n",
        "    return {'x_surname':surname_vector,\n",
        "            'y_nationality':nationality_index}"
      ],
      "metadata": {
        "id": "PwdGNkoDCPQl"
      },
      "execution_count": null,
      "outputs": []
    },
    {
      "cell_type": "markdown",
      "source": [
        "**데이터 벡터 변환 클래스 - Vocabulary**"
      ],
      "metadata": {
        "id": "9ogE3zg9DGFv"
      }
    },
    {
      "cell_type": "code",
      "source": [
        "### 매핑을 위해 텍스트를 처리하고 어휘 사전을 만드는 클래스 \n",
        "class Vocabulary(object):\n",
        "  def __init__(self, token_to_idx=None, add_unk=True, unk_token=\"<UNK>\"):\n",
        "    if token_to_idx is None:\n",
        "      token_to_idx = {}\n",
        "    self._token_to_idx = token_to_idx\n",
        "    \n",
        "    self._idx_to_token = {idx: token \n",
        "                          for token, idx in self._token_to_idx.items()}\n",
        "\n",
        "    self._add_unk = add_unk\n",
        "    self._unk_token = unk_token\n",
        "\n",
        "    self.unk_index = -1\n",
        "    if add_unk:\n",
        "      self.unk_index = self.add_token(unk_token)\n",
        "\n",
        "    \n",
        "  def to_serializable(self): #직렬화할 수 있는 딕셔너리를 반환\n",
        "    return {'token_to_idx':self._token_to_idx,\n",
        "            'add_unk':self._add_unk,\n",
        "            'unk_token':self._unk_token}\n",
        "\n",
        "  \n",
        "  @classmethod\n",
        "  def from_serializable(cls, contents): #직렬화된 딕셔너리에서 Vocabulary 객체 만듦\n",
        "    return cls(**contents)\n",
        "\n",
        "  \n",
        "  def add_token(self, token): #토큰을 기반으로 매핑 딕셔너리를 업데이트함\n",
        "    try:\n",
        "      index = self._token_to_idx[token]\n",
        "    except KeyError:\n",
        "      index = len(self._token_to_idx)\n",
        "      self._token_to_idx[token] = index\n",
        "      self._idx_to_token[index] = token\n",
        "    return index\n",
        "\n",
        "\n",
        "  def add_many(self, tokens): #토큰 리스트를 Vocabulary에 추가함.\n",
        "    return [self.add_token(token) for token in tokens]\n",
        "\n",
        "\n",
        "  def lookup_token(self, token): #토큰에 대응하는 인덱스 추출, 토큰이 없으면 UNK 인덱스 반환\n",
        "    if self.unk_index >= 0:\n",
        "      return self._token_to_idx.get(token, self.unk_index)\n",
        "    else:\n",
        "      return self._token_to_idx[token]\n",
        "\n",
        "\n",
        "  def lookup_index(self, index): #인덱스에 해당하는 토큰을 반환\n",
        "    if index not in self._idx_to_token:\n",
        "      raise KeyError(\"Vocabulary에 인덱스(%d)가 없습니다.\" % index)\n",
        "    return self._idx_to_token[index]\n",
        "\n",
        "  \n",
        "  def __str__(self):\n",
        "    return \"<Vocabulary(size=%d)>\" % len(self)\n",
        "\n",
        "  \n",
        "  def __len__(self):\n",
        "    return len(self._token_to_idx)"
      ],
      "metadata": {
        "id": "BBxK0YEHCyAm"
      },
      "execution_count": null,
      "outputs": []
    },
    {
      "cell_type": "markdown",
      "source": [
        "**데이터 벡터 변환 클래스 - SurnameVectorizer**"
      ],
      "metadata": {
        "id": "OldW5lOSD2Dp"
      }
    },
    {
      "cell_type": "code",
      "source": [
        "### 어휘 사전을 생성하고 관리함\n",
        "class SurnameVecorizer(object):\n",
        "  def __init__(self, surname_vocab, nationality_vocab):\n",
        "    self.surname_vocab = surname_vocab\n",
        "    self.nationality_vocab = nationality_vocab\n",
        "\n",
        "  \n",
        "  def vectorize(self, surname): #성씨에 대한 원-핫 벡터를 만듭니다\n",
        "    vocab = self.surname_vocab\n",
        "    one_hot = np.zeros(len(vocab), dtype=np.float32)\n",
        "    for token in surname:\n",
        "      one_hot[vocab.lookup_token(token)] = 1\n",
        "    return one_hot\n",
        "\n",
        "  \n",
        "  @classmethod\n",
        "  def from_dataframe(cls, surname_df): #데이터셋 데이터프레임에서 Vectorizer 객체 만듦\n",
        "    surname_vocab = Vocabulary(unk_token=\"@\")\n",
        "    nationality_vocab = Vocabulary(add_unk=False)\n",
        "\n",
        "    for index, row in surname_df.iterrows():\n",
        "      for letter in row.surname:\n",
        "        surname_vocab.add_token(letter)\n",
        "      nationality_vocab.add_token(row.nationality)\n",
        "\n",
        "    return cls(surname_vocab, nationality_vocab)\n",
        "\n",
        "  \n",
        "  @classmethod\n",
        "  def from_serializable(cls, contents):\n",
        "    surname_vocab = Vocabulary.from_serializable(contents['surname_vocab'])\n",
        "    nationality_vocab = Vocabulary.from_serializable(contents['surname_vocab'])\n",
        "    return cls(surname_vocab=surname_vocab, nationality_vocab=nationality_vocab)\n",
        "\n",
        "  \n",
        "  def to_serializable(self):\n",
        "    return {'surname_vocab':self.surname_vocab.to_serializable(),\n",
        "            'nationality_vocab':self.nationality_vocab.to_serializable()}\n"
      ],
      "metadata": {
        "id": "moZRFiw_D2SA"
      },
      "execution_count": null,
      "outputs": []
    },
    {
      "cell_type": "markdown",
      "source": [
        "**Dataset**"
      ],
      "metadata": {
        "id": "2FwLe2wv3kZM"
      }
    },
    {
      "cell_type": "code",
      "source": [
        "class SurnameDataset(Dataset):\n",
        "  def __init__(self, surname_df, vectorizer):\n",
        "    self.surname_df = surname_df\n",
        "    self._vectorizer = vectorizer\n",
        "\n",
        "    self.train_df = self.surname_df[self.surname_df.split=='train']\n",
        "    self.train_size = len(self.train_df)\n",
        "\n",
        "    self.val_df = self.surname_df[self.surname_df.split=='val']\n",
        "    self.validation_size = len(self.val_df)\n",
        "\n",
        "    self.test_df = self.surname_df[self.surname_df.split=='test']\n",
        "    self.test_size = len(self.test_df)\n",
        "\n",
        "    self._lookup_dict = {'train': (self.train_df, self.train_size),\n",
        "                          'val': (self.val_df, self.validation_size),\n",
        "                          'test': (self.test_df, self.test_size)}\n",
        "\n",
        "    self.set_split('train')\n",
        "\n",
        "    # 클래스 가중치\n",
        "    class_counts = surname_df.nationality.value_counts().to_dict()\n",
        "    def sort_key(item):\n",
        "      return self._vectorizer.nationality_vocab.lookup_token(item[0])\n",
        "    sorted_counts = sorted(class_counts.items(), key=sort_key)\n",
        "    frequencies = [count for _, count in sorted_counts]\n",
        "    self.class_weights = 1.0 / torch.tensor(frequencies, dtype=torch.float32)\n",
        "\n",
        "  \n",
        "  @classmethod\n",
        "  def load_dataset_and_make_vectorizer(cls, surname_csv): \n",
        "    #데이터셋을 로드하고 새로운 SurnameVectorizer 객체 만듦\n",
        "    surname_df = pd.read_csv(surname_csv)\n",
        "    train_surname_df = surname_df[surname_df.split=='train']\n",
        "    return cls(surname_df, SurnameVecorizer.from_dataframe(train_surname_df))\n",
        "\n",
        "\n",
        "  @classmethod\n",
        "  def load_dataset_and_load_vectorizer(cls, surname_csv, vectorizer_filepath): \n",
        "    #캐시된 SurnameVectorizer 객체 재사용 할 때 쓰임\n",
        "    surname_df = pd.read_csv(surname_csv)\n",
        "    vectorizer = cls.load_vectorizer_only(vectorizer_filepath)\n",
        "    return cls(surname_df, vectorizer)\n",
        "\n",
        "\n",
        "  @staticmethod\n",
        "  def load_vectorizer_only(vectorizer_filepath): \n",
        "    #파일에서 SurnameVectorizer 객체를 로드하는 정적 메서드\n",
        "    with open(vectorizer_filepath) as fp:\n",
        "      return SurnameVecorizer.from_serializable(json.load(fp))\n",
        "\n",
        "\n",
        "  def save_vectorizer(self, vectorizer_filepath):\n",
        "    #SurnameVectorizer 객체를 json 형태로 디스크에 저장\n",
        "    with open(vectorizer_filepath, 'w') as fp:\n",
        "      json.dump(self._vectorizer.to_serializable(), fp)\n",
        "\n",
        "    \n",
        "  def get_vectorizer(self): #벡터 변환 객체를 반환\n",
        "    return self._vectorizer\n",
        "\n",
        "\n",
        "  def set_split(self, split='train'): #데이터프레임의 열을 사용해 분할 세트 선택\n",
        "    self._target_split = split\n",
        "    self._target_df, self._target_size = self._lookup_dict[split]\n",
        "\n",
        "\n",
        "  def __len__(self):\n",
        "    return self._target_size\n",
        "\n",
        "\n",
        "  def __getitem__(self, index):\n",
        "    row = self._target_df.iloc[index]\n",
        "    surname_vector = self._vectorizer.vectorize(row.surname)\n",
        "    nationality_index = self._vectorizer.nationality_vocab.lookup_token(row.nationality)\n",
        "\n",
        "    return {'x_surname':surname_vector, \n",
        "            'y_nationality':nationality_index}\n",
        "\n",
        "\n",
        "  def get_num_batches(self, batch_size): \n",
        "    #배치 크기가 주어지면 데이터셋으로 만들 수 있는 배치 개수 반환\n",
        "    return len(self)//batch_size\n",
        "\n",
        "\n",
        "def generate_batches(dataset, batch_size, shuffle=True, drop_last=True, device='cpu'):\n",
        "  #파이토치 DataLoader를 감싸고 있는 제너레이터 함수\n",
        "  #각 텐서를 지정된 장치로 이동함. \n",
        "  dataloader = DataLoader(dataset=dataset, batch_size=batch_size,\n",
        "                          shuffle=shuffle, drop_last=drop_last)\n",
        "  for data_dict in dataloader:\n",
        "    out_data_dict = {}\n",
        "    for name, tensor in data_dict.items():\n",
        "      out_data_dict[name] = data_dict[name].to(device)\n",
        "    yield out_data_dict"
      ],
      "metadata": {
        "id": "Px-lqaL03kgg"
      },
      "execution_count": null,
      "outputs": []
    },
    {
      "cell_type": "markdown",
      "source": [
        "**모델 - SurnameClassifier**"
      ],
      "metadata": {
        "id": "92k94CaDD2YW"
      }
    },
    {
      "cell_type": "code",
      "source": [
        "import torch.nn as nn\n",
        "import torch.nn.functional as F\n",
        "\n",
        "### 성씨 분류를 위한 MLP\n",
        "class SurnameClassifier(nn.Module):\n",
        "  def __init__(self, input_dim, hidden_dim, output_dim):\n",
        "    super(SurnameClassifier, self).__init__()\n",
        "    self.fc1 = nn.Linear(input_dim, hidden_dim)\n",
        "    self.fc2 = nn.Linear(hidden_dim, output_dim)\n",
        "\n",
        "  \n",
        "  def forward(self, x_in, apply_softmax=False): #MLP의 정방향 계산\n",
        "    intermediate_vector = F.relu(self.fc1(x_in))\n",
        "    prediction_vector = self.fc2(intermediate_vector)\n",
        "\n",
        "    if apply_softmax:\n",
        "      prediction_vector = F.softmax(prediction_vector, dim=1)\n",
        "\n",
        "    return prediction_vector"
      ],
      "metadata": {
        "id": "-ICH21USD2eJ"
      },
      "execution_count": null,
      "outputs": []
    },
    {
      "cell_type": "markdown",
      "source": [
        "### 4.2.4 모델 훈련"
      ],
      "metadata": {
        "id": "kU4QrnwWy7_H"
      }
    },
    {
      "cell_type": "code",
      "source": [
        "### 헬퍼 함수\n",
        "def make_train_state(args):\n",
        "  return {'stop_early': False,\n",
        "          'early_stopping_step': 0,\n",
        "          'early_stopping_best_val': 1e8,\n",
        "          'learning_rate': args.learning_rate,\n",
        "          'epoch_index': 0,\n",
        "          'train_loss': [],\n",
        "          'train_acc': [],\n",
        "          'val_loss': [],\n",
        "          'val_acc': [],\n",
        "          'test_loss': -1,\n",
        "          'test_acc': -1,\n",
        "          'model_filename': args.model_state_file}\n",
        "  \n",
        "\n",
        "def update_train_state(args, model, train_state):\n",
        "  #훈련 상태를 업데이트함\n",
        "\n",
        "  #적어도 한 번 모델을 저장함\n",
        "  if train_state['epoch_index'] == 0:\n",
        "    torch.save(model.state_dict(), train_state['model_filename'])\n",
        "    train_state['stop_early'] = False\n",
        "\n",
        "  #성능이 향상되면 모델을 저장함\n",
        "  elif train_state['epoch_index'] >= 1:\n",
        "    loss_tm1, loss_t = train_state['val_loss'][-2:]\n",
        "\n",
        "      # 손실이 나빠지면\n",
        "    if loss_t >= train_state['early_stopping_best_val']:\n",
        "        # 조기 종료 단계 업데이트\n",
        "        train_state['early_stopping_step'] += 1\n",
        "    # 손실이 감소하면\n",
        "    else:\n",
        "        # 최상의 모델 저장\n",
        "        if loss_t < train_state['early_stopping_best_val']:\n",
        "            torch.save(model.state_dict(), train_state['model_filename'])\n",
        "\n",
        "        # 조기 종료 단계 재설정\n",
        "        train_state['early_stopping_step'] = 0\n",
        "\n",
        "    # 조기 종료 여부 확인\n",
        "    train_state['stop_early'] = \\\n",
        "        train_state['early_stopping_step'] >= args.early_stopping_criteria\n",
        "\n",
        "  return train_state\n",
        "\n",
        "def compute_accuracy(y_pred, y_target):\n",
        "    _, y_pred_indices = y_pred.max(dim=1)\n",
        "    n_correct = torch.eq(y_pred_indices, y_target).sum().item()\n",
        "    return n_correct / len(y_pred_indices) * 100"
      ],
      "metadata": {
        "id": "DJfxsHmL9Z2A"
      },
      "execution_count": null,
      "outputs": []
    },
    {
      "cell_type": "code",
      "source": [
        "### 유틸리티\n",
        "def set_seed_everywhere(seed, cuda):\n",
        "    np.random.seed(seed)\n",
        "    torch.manual_seed(seed)\n",
        "    if cuda:\n",
        "        torch.cuda.manual_seed_all(seed)\n",
        "\n",
        "def handle_dirs(dirpath):\n",
        "    if not os.path.exists(dirpath):\n",
        "        os.makedirs(dirpath)"
      ],
      "metadata": {
        "id": "UU2Xbrvl-npv"
      },
      "execution_count": null,
      "outputs": []
    },
    {
      "cell_type": "code",
      "source": [
        "### MLP 기반의 성씨 분류기를 위한 하이퍼파라미터와 프로그램 설정\n",
        "args = Namespace(\n",
        "    surname_csv = '/content/drive/MyDrive/파이토치로 배우는 자연어 처리/surnames_with_splits.csv',\n",
        "    vectorizer_file = 'vectorizer.json',\n",
        "    model_state_file = 'model.pth',\n",
        "    save_dir = '/content/drive/MyDrive/파이토치로 배우는 자연어 처리/surname_mlp',\n",
        "    #모델 하이퍼파라미터\n",
        "    hidden_dim = 300,\n",
        "    #훈련 하이퍼파라미터\n",
        "    seed = 1337,\n",
        "    num_epochs = 100,\n",
        "    early_stopping_criteria = 5,\n",
        "    learning_rate = 0.001,\n",
        "    batch_size = 64,\n",
        "    #실행 옵션\n",
        "    cuda=False,\n",
        "    reload_from_files=False,\n",
        "    expand_filepaths_to_save_dir=True,\n",
        ")"
      ],
      "metadata": {
        "id": "sIIpIJOcy36_"
      },
      "execution_count": null,
      "outputs": []
    },
    {
      "cell_type": "code",
      "source": [
        "if args.expand_filepaths_to_save_dir:\n",
        "    args.vectorizer_file = os.path.join(args.save_dir,\n",
        "                                        args.vectorizer_file)\n",
        "\n",
        "    args.model_state_file = os.path.join(args.save_dir,\n",
        "                                         args.model_state_file)\n",
        "    \n",
        "    print(\"파일 경로: \")\n",
        "    print(\"\\t{}\".format(args.vectorizer_file))\n",
        "    print(\"\\t{}\".format(args.model_state_file))\n",
        "    \n",
        "# CUDA 체크\n",
        "if not torch.cuda.is_available():\n",
        "    args.cuda = False\n",
        "\n",
        "args.device = torch.device(\"cuda\" if args.cuda else \"cpu\")\n",
        "    \n",
        "print(\"CUDA 사용여부: {}\".format(args.cuda))\n",
        "\n",
        "# 재현성을 위해 시드 설정\n",
        "set_seed_everywhere(args.seed, args.cuda)\n",
        "\n",
        "# 디렉토리 처리\n",
        "handle_dirs(args.save_dir)"
      ],
      "metadata": {
        "colab": {
          "base_uri": "https://localhost:8080/"
        },
        "id": "ZL8uGrmeBaya",
        "outputId": "0020b4f9-96e9-4a9a-ee6f-09c867f3da80"
      },
      "execution_count": null,
      "outputs": [
        {
          "output_type": "stream",
          "name": "stdout",
          "text": [
            "파일 경로: \n",
            "\t/content/drive/MyDrive/파이토치로 배우는 자연어 처리/surname_mlp/vectorizer.json\n",
            "\t/content/drive/MyDrive/파이토치로 배우는 자연어 처리/surname_mlp/model.pth\n",
            "CUDA 사용여부: False\n"
          ]
        }
      ]
    },
    {
      "cell_type": "code",
      "source": [
        "### 초기화\n",
        "# 만약 코랩에서 실행하는 경우 아래 코드를 실행하여 전처리된 라이트 버전의 데이터를 다운로드하세요.\n",
        "!mkdir data\n",
        "!wget https://git.io/JtaFp -O data/download.py\n",
        "!wget https://git.io/Jtabe -O data/get-all-data.sh\n",
        "!chmod 755 data/get-all-data.sh\n",
        "%cd data\n",
        "!./get-all-data.sh\n",
        "%cd ."
      ],
      "metadata": {
        "colab": {
          "base_uri": "https://localhost:8080/"
        },
        "id": "C6r3KIE6-21k",
        "outputId": "84388dd2-da59-4e08-b339-8ba5cd2ecfa0"
      },
      "execution_count": null,
      "outputs": [
        {
          "output_type": "stream",
          "name": "stdout",
          "text": [
            "--2021-12-14 10:38:59--  https://git.io/JtaFp\n",
            "Resolving git.io (git.io)... 18.205.36.100, 54.162.128.250, 54.157.58.70, ...\n",
            "Connecting to git.io (git.io)|18.205.36.100|:443... connected.\n",
            "HTTP request sent, awaiting response... 302 Found\n",
            "Location: https://raw.githubusercontent.com/rickiepark/nlp-with-pytorch/main/chapter_4/4_2_mlp_surnames/data/download.py [following]\n",
            "--2021-12-14 10:38:59--  https://raw.githubusercontent.com/rickiepark/nlp-with-pytorch/main/chapter_4/4_2_mlp_surnames/data/download.py\n",
            "Resolving raw.githubusercontent.com (raw.githubusercontent.com)... 185.199.108.133, 185.199.109.133, 185.199.110.133, ...\n",
            "Connecting to raw.githubusercontent.com (raw.githubusercontent.com)|185.199.108.133|:443... connected.\n",
            "HTTP request sent, awaiting response... 200 OK\n",
            "Length: 1572 (1.5K) [text/plain]\n",
            "Saving to: ‘data/download.py’\n",
            "\n",
            "data/download.py    100%[===================>]   1.54K  --.-KB/s    in 0s      \n",
            "\n",
            "2021-12-14 10:38:59 (18.7 MB/s) - ‘data/download.py’ saved [1572/1572]\n",
            "\n",
            "--2021-12-14 10:38:59--  https://git.io/Jtabe\n",
            "Resolving git.io (git.io)... 18.205.36.100, 54.162.128.250, 54.157.58.70, ...\n",
            "Connecting to git.io (git.io)|18.205.36.100|:443... connected.\n",
            "HTTP request sent, awaiting response... 302 Found\n",
            "Location: https://raw.githubusercontent.com/rickiepark/nlp-with-pytorch/main/chapter_4/4_2_mlp_surnames/data/get-all-data.sh [following]\n",
            "--2021-12-14 10:39:00--  https://raw.githubusercontent.com/rickiepark/nlp-with-pytorch/main/chapter_4/4_2_mlp_surnames/data/get-all-data.sh\n",
            "Resolving raw.githubusercontent.com (raw.githubusercontent.com)... 185.199.108.133, 185.199.111.133, 185.199.110.133, ...\n",
            "Connecting to raw.githubusercontent.com (raw.githubusercontent.com)|185.199.108.133|:443... connected.\n",
            "HTTP request sent, awaiting response... 200 OK\n",
            "Length: 507 [text/plain]\n",
            "Saving to: ‘data/get-all-data.sh’\n",
            "\n",
            "data/get-all-data.s 100%[===================>]     507  --.-KB/s    in 0s      \n",
            "\n",
            "2021-12-14 10:39:00 (22.3 MB/s) - ‘data/get-all-data.sh’ saved [507/507]\n",
            "\n",
            "/content/data/data/data\n",
            "Trying to fetch /content/data/data/data/surnames/surnames.csv\n",
            "6it [00:00, 75.79it/s]\n",
            "Trying to fetch /content/data/data/data/surnames/surnames_with_splits.csv\n",
            "8it [00:00, 85.77it/s]\n",
            "/content/data/data/data\n"
          ]
        }
      ]
    },
    {
      "cell_type": "code",
      "source": [
        "if args.reload_from_files:\n",
        "  print('로딩!')\n",
        "  dataset = SurnameDataset.load_dataset_and_load_vectorizer(args.surname_csv,\n",
        "                                                            arges.vectorizer_file)\n",
        "else:\n",
        "  print('새로 만들기!')\n",
        "  dataset = SurnameDataset.load_dataset_and_make_vectorizer(args.surname_csv)\n",
        "  dataset.save_vectorizer(args.vectorizer_file)\n",
        "\n",
        "vectorizer = dataset.get_vectorizer()\n",
        "classifier = SurnameClassifier(input_dim=len(vectorizer.surname_vocab),\n",
        "                               hidden_dim=args.hidden_dim,\n",
        "                               output_dim=len(vectorizer.nationality_vocab))"
      ],
      "metadata": {
        "colab": {
          "base_uri": "https://localhost:8080/"
        },
        "id": "8flYfLoq_Qqq",
        "outputId": "430c963e-d3f6-4bd5-aeb1-476fa431b9ea"
      },
      "execution_count": null,
      "outputs": [
        {
          "output_type": "stream",
          "name": "stdout",
          "text": [
            "새로 만들기!\n"
          ]
        }
      ]
    },
    {
      "cell_type": "markdown",
      "source": [
        "**훈련 반복**"
      ],
      "metadata": {
        "id": "JcAX0cWtIh2O"
      }
    },
    {
      "cell_type": "code",
      "source": [
        "classifier = classifier.to(args.device)\n",
        "dataset.class_weights = dataset.class_weights.to(args.device)\n",
        "\n",
        "loss_func = nn.CrossEntropyLoss(dataset.class_weights)\n",
        "optimizer = optim.Adam(classifier.parameters(), lr=args.learning_rate)\n",
        "scheduler = optim.lr_scheduler.ReduceLROnPlateau(optimizer=optimizer,\n",
        "                                                 mode='min', factor=0.5, patience=1)\n",
        "\n",
        "train_state = make_train_state(args)\n",
        "epoch_bar = tqdm.notebook.tqdm(desc='training routine',\n",
        "                               total=args.num_epochs,\n",
        "                               position=0)\n",
        "\n",
        "dataset.set_split('train')\n",
        "train_bar = tqdm.notebook.tqdm(desc='split=train',\n",
        "                               total=dataset.get_num_batches(args.batch_size), \n",
        "                               position=1, \n",
        "                               leave=True)\n",
        "dataset.set_split('val')\n",
        "val_bar = tqdm.notebook.tqdm(desc='split=val',\n",
        "                             total=dataset.get_num_batches(args.batch_size), \n",
        "                             position=1, \n",
        "                             leave=True)"
      ],
      "metadata": {
        "colab": {
          "base_uri": "https://localhost:8080/",
          "height": 141,
          "referenced_widgets": [
            "ddc04beae6eb4ab7b383d6c5fa3a4441",
            "cb7a1ba3a8fd44afbbe93a728328f674",
            "7457dff530b34915ab8ff704c2c04a7e",
            "7ed3f05a3a634b94a95ad4b2f751f1a6",
            "b257f61cd9d344ab9821a5fa661cd4d7",
            "f4a1d86b77bb435697c42042beac437f",
            "4eebae5a610445dd8f48e1766112358c",
            "badfc31d80ab46ba8a95fec543311ae5",
            "81cce4d9caad4cf79ef4b310f2dac4b0",
            "eadf5b96c1864b23bce5e80bc7b4b8dd",
            "5eb1da57dd4c405bbebf3622b4c75141",
            "5035423cada54f53b54e664332880667",
            "eadab3c583bb492bb4c281dff78b77c1",
            "1694e9b09f374176b6ddcd7d3b79d7c5",
            "33ec00f7aa274bd481bb1e1574f8a83e",
            "2f467c74762a4a66b8d44675ada2b0ac",
            "36bebb740cf64fdd9e0f383ca203fe45",
            "b69946573be6427182d13f332c58852d",
            "e184414958344873abc17ac3603b539c",
            "489e60f766924994aa31dd544998a607",
            "9e90d60c20914c6fb6dd1df34cfc1e44",
            "e0d67c5ca1d545129bbd3c430b078d7c",
            "4b31c0591b374e78839222fdb7227d7b",
            "d364cc6c819e4545bba708cad2d7acfc",
            "1e9b2dc694bd42989d732ea65e6996f5",
            "8b1594dd3f944cf6ad516580708f809b",
            "f72264dac57942e5a201c20e5e0c847d",
            "f11f4155dbee45da8e81780dba3d7ea3",
            "09e86ef9e73246f594a521d0b1c40799",
            "c1d062dfbc8143fc81e50a51a2745609",
            "363a64d5d7654ad8a44cc577364acaae",
            "2d06ceabada64161abd267fa57685dd3",
            "2cff39ee15c842f78111f13c6641bfa0"
          ]
        },
        "id": "9J4pGOWdBWKi",
        "outputId": "9beea552-8c32-4ed4-9784-f15547d69ca9"
      },
      "execution_count": null,
      "outputs": [
        {
          "output_type": "display_data",
          "data": {
            "application/vnd.jupyter.widget-view+json": {
              "model_id": "ddc04beae6eb4ab7b383d6c5fa3a4441",
              "version_minor": 0,
              "version_major": 2
            },
            "text/plain": [
              "training routine:   0%|          | 0/100 [00:00<?, ?it/s]"
            ]
          },
          "metadata": {}
        },
        {
          "output_type": "display_data",
          "data": {
            "application/vnd.jupyter.widget-view+json": {
              "model_id": "5035423cada54f53b54e664332880667",
              "version_minor": 0,
              "version_major": 2
            },
            "text/plain": [
              "split=train:   0%|          | 0/120 [00:00<?, ?it/s]"
            ]
          },
          "metadata": {}
        },
        {
          "output_type": "display_data",
          "data": {
            "application/vnd.jupyter.widget-view+json": {
              "model_id": "4b31c0591b374e78839222fdb7227d7b",
              "version_minor": 0,
              "version_major": 2
            },
            "text/plain": [
              "split=val:   0%|          | 0/25 [00:00<?, ?it/s]"
            ]
          },
          "metadata": {}
        }
      ]
    },
    {
      "cell_type": "code",
      "source": [
        "try:\n",
        "  for epoch_index in range(args.num_epochs):\n",
        "    train_state['epoch_index'] = epoch_index\n",
        "\n",
        "    #훈련 세트에 대한 순회\n",
        "    #훈련 세트와 배치 제너레이터 준비, 손실과 정확도를 0으로 설정\n",
        "    dataset.set_split('train')\n",
        "    batch_generator = generate_batches(dataset, batch_size=args.batch_size, device=args.device)\n",
        "    running_loss = 0.0\n",
        "    running_acc = 0.0\n",
        "    classifier.train()\n",
        "\n",
        "    for batch_index, batch_dict in enumerate(batch_generator):\n",
        "      #훈련 과정은 5단계\n",
        "      #-------------------------------------------\n",
        "      #단계 1. 그레이디언트를 0으로 초기화함\n",
        "      optimizer.zero_grad()\n",
        "      #단계 2. 출력을 계산함\n",
        "      y_pred = classifier(batch_dict['x_surname'])\n",
        "      #단계 3. 손실을 계산함\n",
        "      loss = loss_func(y_pred, batch_dict['y_nationality'])\n",
        "      loss_t = loss.item()\n",
        "      running_loss += (loss_t - running_loss) / (batch_index + 1)\n",
        "      #단계 4. 손실을 사용해 그레이디언트 계산\n",
        "      loss.backward()\n",
        "      #단계 5. 옵티마이저로 가중치 업데이트\n",
        "      optimizer.step()\n",
        "      #--------------------------------------------\n",
        "\n",
        "      #정확도를 계산함\n",
        "      acc_t = compute_accuracy(y_pred, batch_dict['y_nationality'])\n",
        "      running_acc += (acc_t - running_acc) / (batch_index + 1)\n",
        "\n",
        "      #진행 바 업데이트\n",
        "      train_bar.set_postfix(loss=running_loss, acc=running_acc, epoch=epoch_index)\n",
        "      train_bar.update()\n",
        "\n",
        "    train_state['train_loss'].append(running_loss)\n",
        "    train_state['train_acc'].append(running_acc)\n",
        "\n",
        "\n",
        "    #검증 세트에 대한 순회\n",
        "    #검증 세트와 배치 제너레이터 준비, 손실과 정확도를 0으로 설정\n",
        "    dataset.set_split('val')\n",
        "    batch_generator = generate_batches(dataset, batch_size=args.batch_size, device=args.device)\n",
        "    running_loss = 0.0\n",
        "    running_acc = 0.0\n",
        "    classifier.eval()\n",
        "\n",
        "    for batch_index, batch_dict in enumerate(batch_generator):\n",
        "      #단계 1. 출력을 계산함\n",
        "      y_pred = classifier(batch_dict['x_surname'])\n",
        "      #단계 2. 손실을 계산함\n",
        "      loss = loss_func(y_pred, batch_dict['y_nationality'])\n",
        "      loss_t = loss.to('cpu').item()\n",
        "      running_loss += (loss_t - running_loss) / (batch_index + 1)\n",
        "      #단계 3. 정확도를 계산함\n",
        "      acc_t = compute_accuracy(y_pred, batch_dict['y_nationality'])\n",
        "      running_acc += (acc_t - running_acc) / (batch_index + 1)\n",
        "      val_bar.set_postfix(loss=running_loss, acc=running_acc, epoch=epoch_index)\n",
        "      val_bar.update()\n",
        "\n",
        "    train_state['val_loss'].append(running_loss)\n",
        "    train_state['val_acc'].append(running_acc)\n",
        "\n",
        "    train_state = update_train_state(args=args, model=classifier, train_state=train_state)\n",
        "    \n",
        "    scheduler.step(train_state['val_loss'][-1])\n",
        "    if train_state['stop_early']:\n",
        "      break\n",
        "    train_bar.n = 0\n",
        "    val_bar.n = 0\n",
        "    epoch_bar.update()\n",
        "except KeyboardInterrupt:\n",
        "  print('Exiting loop')"
      ],
      "metadata": {
        "id": "XM41YsFcJv-Q"
      },
      "execution_count": null,
      "outputs": []
    },
    {
      "cell_type": "code",
      "source": [
        "### 가장 좋은 모델을 사용해 테스트 세트의 손실과 정확도를 계산\n",
        "classifier.load_state_dict(torch.load(train_state['model_filename']))\n",
        "classifier = classifier.to(args.device)\n",
        "dataset.class_weights = dataset.class_weights.to(args.device)\n",
        "loss_fun = nn.CrossEntropyLoss(dataset.class_weights)\n",
        "\n",
        "dataset.set_split('test')\n",
        "batch_generator = generate_batches(dataset, batch_size=args.batch_size, device=args.device)\n",
        "\n",
        "running_loss = 0.\n",
        "running_acc = 0.\n",
        "classifier.eval()\n",
        "\n",
        "for batch_index, batch_dict in enumerate(batch_generator):\n",
        "  #출력을 계산\n",
        "  y_pred = classifier(batch_dict['x_surname'])\n",
        "\n",
        "  #손실을 계산\n",
        "  loss = loss_func(y_pred, batch_dict['y_nationality'])\n",
        "  loss_t = loss.item()\n",
        "  running_loss += (loss_t - running_loss) / (batch_index + 1)\n",
        "\n",
        "  #정확도를 계산\n",
        "  acc_t = compute_accuracy(y_pred, batch_dict['y_nationality'])\n",
        "  running_acc += (acc_t - running_acc) / (batch_index + 1)\n",
        "\n",
        "train_state['test_loss'] = running_loss\n",
        "train_state['test_acc'] = running_acc"
      ],
      "metadata": {
        "id": "oa1V-HUUd8rk"
      },
      "execution_count": null,
      "outputs": []
    },
    {
      "cell_type": "code",
      "source": [
        "print('테스트 손실: {}'.format(train_state['test_loss']))\n",
        "print('테스트 정확도: {}'.format(train_state['test_acc']))"
      ],
      "metadata": {
        "colab": {
          "base_uri": "https://localhost:8080/"
        },
        "id": "KF6-ZQK7mo3d",
        "outputId": "ab6c71b0-7907-4812-c8b1-fee0c6163587"
      },
      "execution_count": null,
      "outputs": [
        {
          "output_type": "stream",
          "name": "stdout",
          "text": [
            "테스트 손실: 1.8147725248336792\n",
            "테스트 정확도: 49.37500000000001\n"
          ]
        }
      ]
    },
    {
      "cell_type": "markdown",
      "source": [
        "### 4.2.5 모델 평가와 예측\n",
        "새로운 성씨 분류하기"
      ],
      "metadata": {
        "id": "AcNRwAz2m0ge"
      }
    },
    {
      "cell_type": "code",
      "source": [
        "### 기존 모델을 사용한 추론: 주어진 이름의 국적 예측하기\n",
        "def predict_nationality(surname, classifier, vectorizer):\n",
        "  vectorized_surname = vectorizer.vectorize(surname)\n",
        "  vectorized_surname = torch.tensor(vectorized_surname).view(1,-1)\n",
        "  result = classifier(vectorized_surname, apply_softmax=True)\n",
        "\n",
        "  probability_values, indices = result.max(dim=1)\n",
        "  index = indices.item()\n",
        "\n",
        "  predicted_nationality = vectorizer.nationality_vocab.lookup_index(index)\n",
        "  probability_values = probability_values.item()\n",
        "\n",
        "  return {'nationality':predicted_nationality, 'probability':probability_values}"
      ],
      "metadata": {
        "id": "99vuEu0emv0C"
      },
      "execution_count": null,
      "outputs": []
    },
    {
      "cell_type": "code",
      "source": [
        "new_surname = input('분류하려는 성씨를 입력하세요: ')\n",
        "classifier = classifier.to('cpu')\n",
        "prediction = predict_nationality(new_surname, classifier, vectorizer)\n",
        "print(\"{} -> {} (p={:0.2f})\".format(new_surname,\n",
        "                                    prediction['nationality'],\n",
        "                                    prediction['probability']))"
      ],
      "metadata": {
        "colab": {
          "base_uri": "https://localhost:8080/"
        },
        "id": "JgLNgvm2rBQA",
        "outputId": "c21e0b48-a636-4879-8488-bf96556ec878"
      },
      "execution_count": null,
      "outputs": [
        {
          "output_type": "stream",
          "name": "stdout",
          "text": [
            "분류하려는 성씨를 입력하세요: Macmahan\n",
            "Macmahan -> Scottish (p=0.35)\n"
          ]
        }
      ]
    },
    {
      "cell_type": "code",
      "source": [
        "predict_nationality('McMahan', classifier, vectorizer)"
      ],
      "metadata": {
        "colab": {
          "base_uri": "https://localhost:8080/"
        },
        "id": "ED32Ij4LsPPB",
        "outputId": "10e7189f-de50-49f4-9970-e7391bd165c3"
      },
      "execution_count": null,
      "outputs": [
        {
          "output_type": "execute_result",
          "data": {
            "text/plain": [
              "{'nationality': 'Irish', 'probability': 0.45474720001220703}"
            ]
          },
          "metadata": {},
          "execution_count": 110
        }
      ]
    },
    {
      "cell_type": "code",
      "source": [
        "### 새로운 성씨에 대해 최상위 k개 예측 만들기\n",
        "def predict_topk_nationality(name, classifier, vectorizer, k=5):\n",
        "  vectorized_name = vectorizer.vectorize(name)\n",
        "  vectorized_name = torch.tensor(vectorized_name).view(1,-1)\n",
        "  prediction_vector = classifier(vectorized_name, apply_softmax=True)\n",
        "  probability_values, indices = torch.topk(prediction_vector, k=k)\n",
        "\n",
        "  #반환되는 크기는 (1,k)\n",
        "  probability_values = probability_values.detach().numpy()[0]\n",
        "  indices = indices.detach().numpy()[0]\n",
        "\n",
        "  results = []\n",
        "  for prob_value, index in zip(probability_values, indices):\n",
        "    nationality = vectorizer.nationality_vocab.lookup_index(index)\n",
        "    results.append({'nationality':nationality, 'probability':prob_value})\n",
        "\n",
        "  return results"
      ],
      "metadata": {
        "id": "p_xEB0ylsPYT"
      },
      "execution_count": null,
      "outputs": []
    },
    {
      "cell_type": "code",
      "source": [
        "predict_topk_nationality('McMahan', classifier, vectorizer, k=6)"
      ],
      "metadata": {
        "colab": {
          "base_uri": "https://localhost:8080/"
        },
        "id": "9-L7FyNHsPbE",
        "outputId": "120bd9b7-e7a7-4717-b5e6-ffb74b0f29da"
      },
      "execution_count": null,
      "outputs": [
        {
          "output_type": "execute_result",
          "data": {
            "text/plain": [
              "[{'nationality': 'Irish', 'probability': 0.4547472},\n",
              " {'nationality': 'Scottish', 'probability': 0.21228652},\n",
              " {'nationality': 'Czech', 'probability': 0.08587457},\n",
              " {'nationality': 'Vietnamese', 'probability': 0.045745913},\n",
              " {'nationality': 'German', 'probability': 0.045223072},\n",
              " {'nationality': 'Russian', 'probability': 0.043956373}]"
            ]
          },
          "metadata": {},
          "execution_count": 118
        }
      ]
    },
    {
      "cell_type": "code",
      "source": [
        ""
      ],
      "metadata": {
        "id": "x5kGgLLUsPdl"
      },
      "execution_count": null,
      "outputs": []
    },
    {
      "cell_type": "code",
      "source": [
        "x = torch.rand(2)\n",
        "x"
      ],
      "metadata": {
        "colab": {
          "base_uri": "https://localhost:8080/"
        },
        "id": "w34Rm7JmqEAf",
        "outputId": "fa9b490f-52c4-4768-eebe-093e4039e4bf"
      },
      "execution_count": null,
      "outputs": [
        {
          "output_type": "execute_result",
          "data": {
            "text/plain": [
              "tensor([0.4637, 0.2470])"
            ]
          },
          "metadata": {},
          "execution_count": 107
        }
      ]
    },
    {
      "cell_type": "code",
      "source": [
        "x.view(1,-1)"
      ],
      "metadata": {
        "colab": {
          "base_uri": "https://localhost:8080/"
        },
        "id": "eXOaWLhtqGz5",
        "outputId": "07aedde8-18b0-449f-f897-4a3711ebef8f"
      },
      "execution_count": null,
      "outputs": [
        {
          "output_type": "execute_result",
          "data": {
            "text/plain": [
              "tensor([[0.0299, 0.3609]])"
            ]
          },
          "metadata": {},
          "execution_count": 105
        }
      ]
    },
    {
      "cell_type": "code",
      "source": [
        ""
      ],
      "metadata": {
        "id": "Q2wm6I4eqIry"
      },
      "execution_count": null,
      "outputs": []
    },
    {
      "cell_type": "markdown",
      "source": [
        "### 4.2.6 MLP 규제: 가중치 규제와 구조적 규제(또는 드롭아웃)\n",
        "드롭아웃은 훈련 시에만 적용하고 평가할때는 적용하지 않아야 함"
      ],
      "metadata": {
        "id": "r1xxGHzuvxZv"
      }
    },
    {
      "cell_type": "code",
      "source": [
        "### 드롭아웃을 적용한 MLP\n",
        "import torch.nn as nn\n",
        "import torch.nn.functional as F\n",
        "\n",
        "class MultilayerPerceptron(nn.Module):\n",
        "  def __init__(self, input_dim, hidden_dim, output_dim):\n",
        "    super(MultilayerPerceptron, self).__init__()\n",
        "    self.fc1 = nn.Linear(input_dim, hidden_dim)\n",
        "    self.fc2 = nn.Linear(hidden_dim, output_dim)\n",
        "  \n",
        "  def forward(self, x_in, apply_softmax=False):\n",
        "    intermediate = F.relu(self.fc1(x_in))\n",
        "    output = self.fc2(F.dropout(intermediate, p=0.5))\n",
        "\n",
        "    if apply_softmax:\n",
        "      output = F.softmax(output, dim=1)\n",
        "    return output"
      ],
      "metadata": {
        "id": "95TzBWbhv-Lr"
      },
      "execution_count": null,
      "outputs": []
    },
    {
      "cell_type": "markdown",
      "source": [
        "## 4.3 합성곱 신경망\n",
        "### 4.3.2 파이토치로 CNN 구현하기\n",
        "\n",
        "특성 벡터를 만들기 위한 설계 사항들을 반복하여 결정함.  \n",
        "그 첫 번째 단계는 Conv1d 클래스의 객체를 3차원 데이터 텐서에 적용하는 것."
      ],
      "metadata": {
        "id": "m19HMAyFyDg-"
      }
    },
    {
      "cell_type": "code",
      "source": [
        "### 인공 데이터와 Conv1d 클래스\n",
        "from torch.nn import Conv1d\n",
        "\n",
        "batch_size = 2\n",
        "one_hot_size = 10\n",
        "sequence_width = 7\n",
        "data = torch.randn(batch_size, one_hot_size, sequence_width)\n",
        "conv1 = Conv1d(in_channels=one_hot_size, out_channels=16, kernel_size=3)\n",
        "intermediate1 = conv1(data)\n",
        "print(data.size())\n",
        "print(intermediate1.size())"
      ],
      "metadata": {
        "colab": {
          "base_uri": "https://localhost:8080/"
        },
        "id": "jaXDIMrLxt1U",
        "outputId": "32ea53b6-f76d-4621-a3df-3ebd4aec587b"
      },
      "execution_count": null,
      "outputs": [
        {
          "output_type": "stream",
          "name": "stdout",
          "text": [
            "torch.Size([2, 10, 7])\n",
            "torch.Size([2, 16, 5])\n"
          ]
        }
      ]
    },
    {
      "cell_type": "code",
      "source": [
        "### 데이터에 반복 적용한 합성곱\n",
        "conv2 = nn.Conv1d(in_channels=16, out_channels=32, kernel_size=3)\n",
        "conv3 = nn.Conv1d(in_channels=32, out_channels=64, kernel_size=3)\n",
        "\n",
        "intermediate2 = conv2(intermediate1)\n",
        "intermediate3 = conv3(intermediate2)\n",
        "\n",
        "print(intermediate2.size())\n",
        "print(intermediate3.size())\n"
      ],
      "metadata": {
        "colab": {
          "base_uri": "https://localhost:8080/"
        },
        "id": "yl0LhFsf6Laq",
        "outputId": "9580c079-295b-4a06-cbad-9d4f0f016032"
      },
      "execution_count": null,
      "outputs": [
        {
          "output_type": "stream",
          "name": "stdout",
          "text": [
            "torch.Size([2, 32, 3])\n",
            "torch.Size([2, 64, 1])\n"
          ]
        }
      ]
    },
    {
      "cell_type": "code",
      "source": [
        "y_output = intermediate3.squeeze()   #불필요한 size=1 차원을 제거함\n",
        "print(y_output.size())   #특성 벡터를 Linear층과 같은 다른 신경망 구성 요소에 사용하여 예측 벡터를 만들 수 있음"
      ],
      "metadata": {
        "colab": {
          "base_uri": "https://localhost:8080/"
        },
        "id": "1KEd3w_K7lTz",
        "outputId": "ab468c97-6d12-4711-eb52-bbe8440ce935"
      },
      "execution_count": null,
      "outputs": [
        {
          "output_type": "stream",
          "name": "stdout",
          "text": [
            "torch.Size([2, 64])\n"
          ]
        }
      ]
    },
    {
      "cell_type": "code",
      "source": [
        "### 특성 벡터를 줄이는 방법 2\n",
        "# view() 메서드를 사용해 모든 벡터를 하나의 벡터로 펼침\n",
        "print(intermediate1.view(batch_size, -1).size())\n",
        "\n",
        "### 특성 벡터를 줄이는 방법 3\n",
        "# 수학 연산을 사용해 정보를 벡터로 요약함 (가장 많이 쓰는 건 산술 평균)\n",
        "print(torch.mean(intermediate1, dim=2).size())"
      ],
      "metadata": {
        "colab": {
          "base_uri": "https://localhost:8080/"
        },
        "id": "VywjS2uC7qaT",
        "outputId": "b1f6ccf4-4d30-4b1b-b26c-e402aa4bf66b"
      },
      "execution_count": null,
      "outputs": [
        {
          "output_type": "stream",
          "name": "stdout",
          "text": [
            "torch.Size([2, 80])\n",
            "torch.Size([2, 16])\n"
          ]
        }
      ]
    },
    {
      "cell_type": "markdown",
      "source": [
        "## 4.4 예제: CNN으로 성씨 분류하기\n",
        "### 4.4.2 Vocabulary, Vectorizer, DataLoader\n",
        "Vectorizer의 vectorize 메서드를 cnn모델에 맞게 바꿔야 함"
      ],
      "metadata": {
        "id": "SyDpGyxi8z60"
      }
    },
    {
      "cell_type": "code",
      "source": [
        "from argparse import Namespace\n",
        "from collections import Counter\n",
        "import json\n",
        "import os\n",
        "import string\n",
        "\n",
        "import numpy as np\n",
        "import pandas as pd\n",
        "import torch\n",
        "import torch.nn as nn\n",
        "import torch.nn.functional as F\n",
        "import torch.optim as optim\n",
        "from torch.utils.data import Dataset, DataLoader\n",
        "import tqdm"
      ],
      "metadata": {
        "id": "nhnhtkHv8v4B"
      },
      "execution_count": null,
      "outputs": []
    },
    {
      "cell_type": "code",
      "source": [
        "### 어휘 사전을 생성하고 관리함\n",
        "class SurnameVecorizer(object):\n",
        "  def __init__(self, surname_vocab, nationality_vocab):\n",
        "    self.surname_vocab = surname_vocab\n",
        "    self.nationality_vocab = nationality_vocab\n",
        "\n",
        "  \n",
        "  def vectorize(self, surname): #성씨에 대한 원-핫 벡터를 만듭니다\n",
        "    \"\"\"\n",
        "    vocab = self.surname_vocab\n",
        "    one_hot = np.zeros(len(vocab), dtype=np.float32)\n",
        "    for token in surname:\n",
        "      one_hot[vocab.lookup_token(token)] = 1\n",
        "    return one_hot\n",
        "    \"\"\"\n",
        "    one_hot_matrix_size = (len(self.character_vocab), self.max_surname_length)\n",
        "    one_hot_matrix = np.zeros(one_hot_matrix_size, dtype=np.float32)\n",
        "    for position_index, character in enumerate(surname):\n",
        "      character_index = self.character_vocab.lookup_token(character)\n",
        "      one_hot_matrix[character_index][position_index] = 1\n",
        "    \n",
        "    return one_hot_matrix\n",
        "\n",
        "  \n",
        "  @classmethod\n",
        "  def from_dataframe(cls, surname_df): #데이터셋 데이터프레임에서 Vectorizer 객체 만듦\n",
        "    \"\"\"  \n",
        "    surname_vocab = Vocabulary(unk_token=\"@\")\n",
        "    nationality_vocab = Vocabulary(add_unk=False)\n",
        "\n",
        "    for index, row in surname_df.iterrows():\n",
        "      for letter in row.surname:\n",
        "        surname_vocab.add_token(letter)\n",
        "      nationality_vocab.add_token(row.nationality)\n",
        "\n",
        "    return cls(surname_vocab, nationality_vocab)\n",
        "    \"\"\"\n",
        "    character_vocab = Vocabulary(unk_token=\"@\")\n",
        "    nationality_vocab = Vocabulary(add_unk=False)\n",
        "    max_surname_length = 0\n",
        "\n",
        "    for index, row in surname_df.iterrows():\n",
        "      max_surname_length = max(max_surname_length, len(row.surname))\n",
        "      for letter in row.surname:\n",
        "        character_vocab.add_token(letter)\n",
        "      nationality_vocab.add_token(row.nationality)\n",
        "    \n",
        "    return cls(character_vocab, nationality_vocab, max_surname_length)\n",
        "  \n",
        "  @classmethod\n",
        "  def from_serializable(cls, contents):\n",
        "    surname_vocab = Vocabulary.from_serializable(contents['surname_vocab'])\n",
        "    nationality_vocab = Vocabulary.from_serializable(contents['surname_vocab'])\n",
        "    return cls(surname_vocab=surname_vocab, nationality_vocab=nationality_vocab)\n",
        "\n",
        "  \n",
        "  def to_serializable(self):\n",
        "    return {'surname_vocab':self.surname_vocab.to_serializable(),\n",
        "            'nationality_vocab':self.nationality_vocab.to_serializable()}\n"
      ],
      "metadata": {
        "id": "W8kg9WZa_zfb"
      },
      "execution_count": null,
      "outputs": []
    },
    {
      "cell_type": "markdown",
      "source": [
        "### 4.4.3 CNN을 사용해 모델-SurnameClassifier 구현하기"
      ],
      "metadata": {
        "id": "-t6BbGu6CQzJ"
      }
    },
    {
      "cell_type": "code",
      "source": [
        "import torch.nn as nn\n",
        "import torch.nn.functional as F\n",
        "\n",
        "class SurnameClassifier(nn.Module):\n",
        "  def __init__(self, initial_num_channels, num_classes, num_channels):\n",
        "    super(SurnameClassifier, self).__init__()\n",
        "\n",
        "    self.convnet = nn.Sequential(\n",
        "        nn.Conv1d(in_channels=initial_num_channels,\n",
        "                  out_channels=num_channels, kernel_size=3),\n",
        "        nn.ElU(),\n",
        "        nn.Conv1d(in_channels=num_channels, out_channels=num_channels,\n",
        "                  kernel_size=3, stride=2),\n",
        "        nn.ELU(),\n",
        "        nn.Conv1d(in_channels=num_channels, out_channels=num_channels,\n",
        "                  kernel_size=3, stride=2),\n",
        "        nn.ELU(),\n",
        "        nn.Conv1d(in_channels=num_channels, out_channels=num_channels,\n",
        "                  kernel_size=3),\n",
        "        nn.ELU()\n",
        "    )\n",
        "    self.fc = nn.Linear(num_channels, num_classes)\n",
        "\n",
        "  \n",
        "  def forward(self, x_surname, apply_softmax=False):\n",
        "    features = self.convnet(x_surname).squeeze(dim=2)\n",
        "    prediction_vector = self.fc(features)\n",
        "\n",
        "    if apply_softmax:\n",
        "      prediction_vector = F.softmax(prediction_vector, dim=1)\n",
        "\n",
        "    return prediction_vector\n"
      ],
      "metadata": {
        "id": "CKFzockDFFWZ"
      },
      "execution_count": null,
      "outputs": []
    },
    {
      "cell_type": "markdown",
      "source": [
        "### 4.4.4 모델 훈련\n",
        "\n",
        "입력 매개변수는 다르지만 모델 평가와 예측 과정은 이전 예제와 같음 \n",
        "\n",
        "### 4.4.5 모델 평가와 예측"
      ],
      "metadata": {
        "id": "wr-3-ooyGgi9"
      }
    },
    {
      "cell_type": "code",
      "source": [
        "### 성씨 분류기의 입력 매개변수\n",
        "args = Namespace(\n",
        "    surname_csv = '/content/drive/MyDrive/파이토치로 배우는 자연어 처리/surnames_with_splits.csv',\n",
        "    vectorizer_file = 'vectorizer.json',\n",
        "    model_state_file = 'model.pth',\n",
        "    save_dir = '/content/drive/MyDrive/파이토치로 배우는 자연어 처리/surname_mlp',\n",
        "    #모델 하이퍼파라미터\n",
        "    hidden_dim = 100,\n",
        "    num_channels = 256,\n",
        "    #훈련 하이퍼파라미터\n",
        "    seed = 1337,\n",
        "    num_epochs = 100,\n",
        "    early_stopping_criteria = 5,\n",
        "    learning_rate = 0.001,\n",
        "    batch_size = 128,\n",
        "    # 실행 옵션\n",
        "    cuda=True,\n",
        "    reload_from_files=False,\n",
        "    expand_filepaths_to_save_dir=True,\n",
        "    catch_keyboard_interrupt=True\n",
        ")\n"
      ],
      "metadata": {
        "id": "KFkHQ7d7CP8v"
      },
      "execution_count": null,
      "outputs": []
    },
    {
      "cell_type": "code",
      "source": [
        "if args.expand_filepaths_to_save_dir:\n",
        "    args.vectorizer_file = os.path.join(args.save_dir,\n",
        "                                        args.vectorizer_file)\n",
        "\n",
        "    args.model_state_file = os.path.join(args.save_dir,\n",
        "                                         args.model_state_file)\n",
        "    \n",
        "    print(\"파일 경로: \")\n",
        "    print(\"\\t{}\".format(args.vectorizer_file))\n",
        "    print(\"\\t{}\".format(args.model_state_file))\n",
        "    \n",
        "# CUDA 체크\n",
        "if not torch.cuda.is_available():\n",
        "    args.cuda = False\n",
        "\n",
        "args.device = torch.device(\"cuda\" if args.cuda else \"cpu\")\n",
        "print(\"CUDA 사용여부: {}\".format(args.cuda))\n",
        "\n",
        "def set_seed_everywhere(seed, cuda):\n",
        "    np.random.seed(seed)\n",
        "    torch.manual_seed(seed)\n",
        "    if cuda:\n",
        "        torch.cuda.manual_seed_all(seed)\n",
        "        \n",
        "def handle_dirs(dirpath):\n",
        "    if not os.path.exists(dirpath):\n",
        "        os.makedirs(dirpath)\n",
        "        \n",
        "# 재현성을 위해 시드 설정\n",
        "set_seed_everywhere(args.seed, args.cuda)\n",
        "\n",
        "# 디렉토리 처리\n",
        "handle_dirs(args.save_dir)"
      ],
      "metadata": {
        "colab": {
          "base_uri": "https://localhost:8080/"
        },
        "id": "G2Mo9ci5HZr8",
        "outputId": "ff967876-7446-4779-9739-aa898e094c1e"
      },
      "execution_count": null,
      "outputs": [
        {
          "output_type": "stream",
          "name": "stdout",
          "text": [
            "파일 경로: \n",
            "\t/content/drive/MyDrive/파이토치로 배우는 자연어 처리/surname_mlp/vectorizer.json\n",
            "\t/content/drive/MyDrive/파이토치로 배우는 자연어 처리/surname_mlp/model.pth\n",
            "CUDA 사용여부: False\n"
          ]
        }
      ]
    },
    {
      "cell_type": "code",
      "source": [
        "classifier = classifier.to(args.device)\n",
        "dataset.class_weights = dataset.class_weights.to(args.device)\n",
        "\n",
        "loss_func = nn.CrossEntropyLoss(dataset.class_weights)\n",
        "optimizer = optim.Adam(classifier.parameters(), lr=args.learning_rate)\n",
        "scheduler = optim.lr_scheduler.ReduceLROnPlateau(optimizer=optimizer,\n",
        "                                                 mode='min', factor=0.5, patience=1)\n",
        "\n",
        "train_state = make_train_state(args)\n",
        "epoch_bar = tqdm.notebook.tqdm(desc='training routine',\n",
        "                               total=args.num_epochs,\n",
        "                               position=0)\n",
        "\n",
        "dataset.set_split('train')\n",
        "train_bar = tqdm.notebook.tqdm(desc='split=train',\n",
        "                               total=dataset.get_num_batches(args.batch_size), \n",
        "                               position=1, \n",
        "                               leave=True)\n",
        "dataset.set_split('val')\n",
        "val_bar = tqdm.notebook.tqdm(desc='split=val',\n",
        "                             total=dataset.get_num_batches(args.batch_size), \n",
        "                             position=1, \n",
        "                             leave=True)"
      ],
      "metadata": {
        "colab": {
          "base_uri": "https://localhost:8080/",
          "height": 113,
          "referenced_widgets": [
            "0c369f01c1fb4a66a6b89c381b0d4beb",
            "0119db67f2b84913b37472bb2743f669",
            "293c7cbf77ed4119aa4260108d098cec",
            "3458bb89763c43898f60b33b616443b7",
            "efe9cefee08549c591311bb32b9349d4",
            "daa5d0f1a44c4cd38ffe1e2bbc38a71c",
            "9f9ca297bc4d4691ba41f6e2ddde1cc4",
            "3bc6679989274066a6eff1d3b548427d",
            "55b86813d9764f22854c3ba4c5925bcc",
            "1fdb437f7fea44c9b511efa42131077a",
            "ace5b321e6a14e28b15b716e4e9f1661",
            "b18d420043f64f0d9acb1ca33fb48c09",
            "0a80b1881c6840b4837b939846cab8de",
            "b2734b505cc04abb8b7d2e7782452e2c",
            "dc149956b16a4c739bae02cdf907387a",
            "babf5f1d233148a0ae5709c7cc66f41e",
            "a2ab8805fc8b460c83dd59646890b46c",
            "183f88ef172b47bf82097de672b7ef2e",
            "4cc155f13b75486285e10db21eac5e27",
            "25266595c5b14a75bacdb39c9cd86793",
            "14b41bcd309747229272a1fd24bcf607",
            "af4fd34ff3b7481b9fd24d722572bb90",
            "6c2b61423dc248ceaf26ec2749cffbef",
            "557daf2534794e97ba58420c1975a891",
            "58c0a0d3d4e147eab2122be4f15e322e",
            "a5ec11a2b57042ce88a47cd2fe4deb5a",
            "2995f1a0f34148c0a83eb33dec20b0bc",
            "41d769f84f1e41c78c3f53784d453005",
            "a15c46cc524b4897a8bc0dd975d6a775",
            "5f808a2672a6487caf8084d06d571a9a",
            "013809e773e14b949809108dfe531f55",
            "e4187a304c9b4469ab2cabc1b49db055",
            "7eba7c03b672482ba464174b5a8ad756"
          ]
        },
        "id": "pGTflI5gG3rg",
        "outputId": "286cbcd3-bf42-473e-bfca-23269308d2f0"
      },
      "execution_count": null,
      "outputs": [
        {
          "output_type": "display_data",
          "data": {
            "application/vnd.jupyter.widget-view+json": {
              "model_id": "0c369f01c1fb4a66a6b89c381b0d4beb",
              "version_minor": 0,
              "version_major": 2
            },
            "text/plain": [
              "training routine:   0%|          | 0/100 [00:00<?, ?it/s]"
            ]
          },
          "metadata": {}
        },
        {
          "output_type": "display_data",
          "data": {
            "application/vnd.jupyter.widget-view+json": {
              "model_id": "b18d420043f64f0d9acb1ca33fb48c09",
              "version_minor": 0,
              "version_major": 2
            },
            "text/plain": [
              "split=train:   0%|          | 0/60 [00:00<?, ?it/s]"
            ]
          },
          "metadata": {}
        },
        {
          "output_type": "display_data",
          "data": {
            "application/vnd.jupyter.widget-view+json": {
              "model_id": "6c2b61423dc248ceaf26ec2749cffbef",
              "version_minor": 0,
              "version_major": 2
            },
            "text/plain": [
              "split=val:   0%|          | 0/12 [00:00<?, ?it/s]"
            ]
          },
          "metadata": {}
        }
      ]
    },
    {
      "cell_type": "code",
      "source": [
        "try:\n",
        "  for epoch_index in range(args.num_epochs):\n",
        "    train_state['epoch_index'] = epoch_index\n",
        "\n",
        "    #훈련 세트에 대한 순회\n",
        "    #훈련 세트와 배치 제너레이터 준비, 손실과 정확도를 0으로 설정\n",
        "    dataset.set_split('train')\n",
        "    batch_generator = generate_batches(dataset, batch_size=args.batch_size, device=args.device)\n",
        "    running_loss = 0.0\n",
        "    running_acc = 0.0\n",
        "    classifier.train()\n",
        "\n",
        "    for batch_index, batch_dict in enumerate(batch_generator):\n",
        "      #훈련 과정은 5단계\n",
        "      #-------------------------------------------\n",
        "      #단계 1. 그레이디언트를 0으로 초기화함\n",
        "      optimizer.zero_grad()\n",
        "      #단계 2. 출력을 계산함\n",
        "      y_pred = classifier(batch_dict['x_surname'])\n",
        "      #단계 3. 손실을 계산함\n",
        "      loss = loss_func(y_pred, batch_dict['y_nationality'])\n",
        "      loss_t = loss.item()\n",
        "      running_loss += (loss_t - running_loss) / (batch_index + 1)\n",
        "      #단계 4. 손실을 사용해 그레이디언트 계산\n",
        "      loss.backward()\n",
        "      #단계 5. 옵티마이저로 가중치 업데이트\n",
        "      optimizer.step()\n",
        "      #--------------------------------------------\n",
        "\n",
        "      #정확도를 계산함\n",
        "      acc_t = compute_accuracy(y_pred, batch_dict['y_nationality'])\n",
        "      running_acc += (acc_t - running_acc) / (batch_index + 1)\n",
        "\n",
        "      #진행 바 업데이트\n",
        "      train_bar.set_postfix(loss=running_loss, acc=running_acc, epoch=epoch_index)\n",
        "      train_bar.update()\n",
        "\n",
        "    train_state['train_loss'].append(running_loss)\n",
        "    train_state['train_acc'].append(running_acc)\n",
        "\n",
        "\n",
        "    #검증 세트에 대한 순회\n",
        "    #검증 세트와 배치 제너레이터 준비, 손실과 정확도를 0으로 설정\n",
        "    dataset.set_split('val')\n",
        "    batch_generator = generate_batches(dataset, batch_size=args.batch_size, device=args.device)\n",
        "    running_loss = 0.0\n",
        "    running_acc = 0.0\n",
        "    classifier.eval()\n",
        "\n",
        "    for batch_index, batch_dict in enumerate(batch_generator):\n",
        "      #단계 1. 출력을 계산함\n",
        "      y_pred = classifier(batch_dict['x_surname'])\n",
        "      #단계 2. 손실을 계산함\n",
        "      loss = loss_func(y_pred, batch_dict['y_nationality'])\n",
        "      loss_t = loss.to('cpu').item()\n",
        "      running_loss += (loss_t - running_loss) / (batch_index + 1)\n",
        "      #단계 3. 정확도를 계산함\n",
        "      acc_t = compute_accuracy(y_pred, batch_dict['y_nationality'])\n",
        "      running_acc += (acc_t - running_acc) / (batch_index + 1)\n",
        "      val_bar.set_postfix(loss=running_loss, acc=running_acc, epoch=epoch_index)\n",
        "      val_bar.update()\n",
        "\n",
        "    train_state['val_loss'].append(running_loss)\n",
        "    train_state['val_acc'].append(running_acc)\n",
        "\n",
        "    train_state = update_train_state(args=args, model=classifier, train_state=train_state)\n",
        "    \n",
        "    scheduler.step(train_state['val_loss'][-1])\n",
        "    if train_state['stop_early']:\n",
        "      break\n",
        "    train_bar.n = 0\n",
        "    val_bar.n = 0\n",
        "    epoch_bar.update()\n",
        "except KeyboardInterrupt:\n",
        "  print('Exiting loop')"
      ],
      "metadata": {
        "id": "wh-d2mcTHB_f"
      },
      "execution_count": null,
      "outputs": []
    },
    {
      "cell_type": "code",
      "source": [
        "### 가장 좋은 모델을 사용해 테스트 세트의 손실과 정확도를 계산\n",
        "classifier.load_state_dict(torch.load(train_state['model_filename']))\n",
        "classifier = classifier.to(args.device)\n",
        "dataset.class_weights = dataset.class_weights.to(args.device)\n",
        "loss_fun = nn.CrossEntropyLoss(dataset.class_weights)\n",
        "\n",
        "dataset.set_split('test')\n",
        "batch_generator = generate_batches(dataset, batch_size=args.batch_size, device=args.device)\n",
        "\n",
        "running_loss = 0.\n",
        "running_acc = 0.\n",
        "classifier.eval()\n",
        "\n",
        "for batch_index, batch_dict in enumerate(batch_generator):\n",
        "  #출력을 계산\n",
        "  y_pred = classifier(batch_dict['x_surname'])\n",
        "\n",
        "  #손실을 계산\n",
        "  loss = loss_func(y_pred, batch_dict['y_nationality'])\n",
        "  loss_t = loss.item()\n",
        "  running_loss += (loss_t - running_loss) / (batch_index + 1)\n",
        "\n",
        "  #정확도를 계산\n",
        "  acc_t = compute_accuracy(y_pred, batch_dict['y_nationality'])\n",
        "  running_acc += (acc_t - running_acc) / (batch_index + 1)\n",
        "\n",
        "train_state['test_loss'] = running_loss\n",
        "train_state['test_acc'] = running_acc"
      ],
      "metadata": {
        "id": "TgexImYKHbuY"
      },
      "execution_count": null,
      "outputs": []
    },
    {
      "cell_type": "code",
      "source": [
        "print('테스트 손실: {}'.format(train_state['test_loss']))\n",
        "print('테스트 정확도: {}'.format(train_state['test_acc']))"
      ],
      "metadata": {
        "colab": {
          "base_uri": "https://localhost:8080/"
        },
        "id": "AxKxjLwwHuBf",
        "outputId": "7361dd3b-8930-4400-e7e8-6b930fafe2e0"
      },
      "execution_count": null,
      "outputs": [
        {
          "output_type": "stream",
          "name": "stdout",
          "text": [
            "테스트 손실: 1.8380681773026784\n",
            "테스트 정확도: 50.71614583333333\n"
          ]
        }
      ]
    },
    {
      "cell_type": "markdown",
      "source": [
        "정확도가 1퍼센트 밖에 안 올랐는데??\n",
        "흠\n",
        "\n",
        "\n",
        "**새로운 성씨를 분류하고 최상위 예측 구하기**"
      ],
      "metadata": {
        "id": "Fiv6VyFpHzQD"
      }
    },
    {
      "cell_type": "code",
      "source": [
        "### 훈련된 모델로 예측 만들기\n",
        "def predict_nationality(surname, classifier, vectorizer):\n",
        "  vectorized_surname = vectorizer.vectorize(surname)\n",
        "  vectorized_surname = torch.tensor(vectorized_surname).unsqueeze(0)\n",
        "  result = classifier(vectorized_surname, apply_softmax=True)\n",
        "\n",
        "  probability_values, indices = result.max(dim=1)\n",
        "  index = indices.item()\n",
        "\n",
        "  predicted_nationality = vectorizer.nationality_vocab.lookup_index(index)\n",
        "  probability_value = probability_values.item()\n",
        "\n",
        "  return {'nationality':predicted_nationality, 'probability':probability_value}"
      ],
      "metadata": {
        "id": "74sAoEOjH1mR"
      },
      "execution_count": null,
      "outputs": []
    },
    {
      "cell_type": "code",
      "source": [
        "new_surname = input(\"분류하려는 성씨를 입력하세요: \")\n",
        "classifier = classifier.cpu()\n",
        "prediction = predict_nationality(new_surname, classifier, vectorizer)\n",
        "print(\"{} -> {} (p={:0.2f})\".format(new_surname,\n",
        "                                    prediction['nationality'],\n",
        "                                    prediction['probability']))"
      ],
      "metadata": {
        "colab": {
          "base_uri": "https://localhost:8080/"
        },
        "id": "5Y6T1npoJAv9",
        "outputId": "cfb3112f-6f80-46c0-fd58-8dce6d5f9ddf"
      },
      "execution_count": null,
      "outputs": [
        {
          "output_type": "stream",
          "name": "stdout",
          "text": [
            "분류하려는 성씨를 입력하세요: MacMahen\n",
            "MacMahen -> Irish (p=0.61)\n"
          ]
        }
      ]
    },
    {
      "cell_type": "markdown",
      "source": [
        "## 4.5 CNN에 관한 추가 내용\n",
        "### 4.5.1 풀링\n",
        "고차원 특성 맵을 저차원 특성 맵으로 요약하는 연산\n",
        "### 4.5.2 배치 정규화\n",
        "CNN의 출력에 적용되어 활성화값의 평균이 0이고 단위 분산이 되도록 만듦.  \n",
        "모델이 파라미터 초기화에 덜 민감하게 만들고 학습률 튜닝을 단순화함"
      ],
      "metadata": {
        "id": "Z7ed3SJxJOjn"
      }
    },
    {
      "cell_type": "code",
      "source": [
        "### 배치 정규화와 Conv1D층 사용하기\n",
        "\n",
        "# ...\n",
        "self.conv1 = nn.Conv1d(in_channerls=1, out_channels=10, kernel_size=5, stride=1)\n",
        "self.conv1_bn = nn.BatchNorm1d(num_features=10)\n",
        "# ...\n",
        "\n",
        "def forward(self, x):\n",
        "  # ...\n",
        "  x = F.relu(self.conv1(x))\n",
        "  x = self.conv1_bn(x)\n",
        "  # ..."
      ],
      "metadata": {
        "id": "2UbvCRmyJFNg"
      },
      "execution_count": null,
      "outputs": []
    },
    {
      "cell_type": "code",
      "source": [
        ""
      ],
      "metadata": {
        "id": "v4cBwpozKary"
      },
      "execution_count": null,
      "outputs": []
    }
  ]
}