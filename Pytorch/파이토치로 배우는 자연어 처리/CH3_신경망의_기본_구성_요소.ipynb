{
  "nbformat": 4,
  "nbformat_minor": 0,
  "metadata": {
    "colab": {
      "name": "CH3_신경망의 기본 구성 요소.ipynb",
      "provenance": [],
      "collapsed_sections": [],
      "authorship_tag": "ABX9TyPNOhSsOIBrNv0E7Kl1Q5LB",
      "include_colab_link": true
    },
    "kernelspec": {
      "name": "python3",
      "display_name": "Python 3"
    },
    "language_info": {
      "name": "python"
    }
  },
  "cells": [
    {
      "cell_type": "markdown",
      "metadata": {
        "id": "view-in-github",
        "colab_type": "text"
      },
      "source": [
        "<a href=\"https://colab.research.google.com/github/Ga-Young-Ahn/Study/blob/main/CH3_%EC%8B%A0%EA%B2%BD%EB%A7%9D%EC%9D%98_%EA%B8%B0%EB%B3%B8_%EA%B5%AC%EC%84%B1_%EC%9A%94%EC%86%8C.ipynb\" target=\"_parent\"><img src=\"https://colab.research.google.com/assets/colab-badge.svg\" alt=\"Open In Colab\"/></a>"
      ]
    },
    {
      "cell_type": "markdown",
      "source": [
        "**3.1 퍼셉트론: 가장 간단한 신경망**\n",
        "\n",
        "입력(x), 출력(y), 가중치(w), 절편(b), 활성화 함수(f)\n",
        "\n",
        "가중치와 절편은 데이터에서 학습되고, 활성화함수는 신경망과 타깃 출력을 기반으로 설계자의 직관에 따라 결정됨\n",
        "\n",
        "파이토치로 구현한 퍼셉트론"
      ],
      "metadata": {
        "id": "7Gp_-18bg_xQ"
      }
    },
    {
      "cell_type": "code",
      "source": [
        "import torch\n",
        "import torch.nn as nn\n",
        "\n",
        "class Perceptron(nn.Module):\n",
        "  \"\"\" 퍼셉트론은 하나의 선형 층입니다 \"\"\"\n",
        "  def __init__(self, input_dim):\n",
        "    \"\"\"\n",
        "    매개변수:\n",
        "        input_dim (int) : 입력 특성의 크기\n",
        "    \"\"\"\n",
        "    super(Perceptron, self).__init__()\n",
        "    self.fc1 = nn.Linear(input_dim, 1)\n",
        "\n",
        "  def forward(self, x_in):\n",
        "    \"\"\"\n",
        "    퍼셉트론의 정방향 계산\n",
        "\n",
        "    매개변수:\n",
        "        x_in (torch.Tensor) : 입력 데이터 텐서\n",
        "            x_in.shape는 (batch, num_features)입니다.\n",
        "    반환값:\n",
        "        결과 텐서. tensor.shape는 (batch,)입니다.\n",
        "    \"\"\"\n",
        "    return torch.sigmoid(self, fc1(x_in)).squeeze()"
      ],
      "metadata": {
        "id": "n_quc3LvhQDA"
      },
      "execution_count": null,
      "outputs": []
    },
    {
      "cell_type": "markdown",
      "source": [
        "**3.2 활성화 함수**\n",
        "\n",
        "3.2.1 시그모이드\n",
        "\n",
        "임의의 실수값을 받아 0과 1 사이의 범위로 압축함"
      ],
      "metadata": {
        "id": "1qUaXIofiVsk"
      }
    },
    {
      "cell_type": "code",
      "source": [
        "import matplotlib.pyplot as plt\n",
        "\n",
        "x = torch.range(-5., 5., 0.1)\n",
        "y = torch.sigmoid(x)\n",
        "\n",
        "plt.plot(x.numpy(), y.numpy())\n",
        "plt.show()"
      ],
      "metadata": {
        "colab": {
          "base_uri": "https://localhost:8080/",
          "height": 322
        },
        "id": "IuG_mK2OiFfj",
        "outputId": "a9cd8383-312f-4154-a298-ec8e2e386d1e"
      },
      "execution_count": null,
      "outputs": [
        {
          "output_type": "stream",
          "name": "stderr",
          "text": [
            "/usr/local/lib/python3.7/dist-packages/ipykernel_launcher.py:3: UserWarning: torch.range is deprecated and will be removed in a future release because its behavior is inconsistent with Python's range builtin. Instead, use torch.arange, which produces values in [start, end).\n",
            "  This is separate from the ipykernel package so we can avoid doing imports until\n"
          ]
        },
        {
          "output_type": "display_data",
          "data": {
            "image/png": "[encoded data removed]",
            "text/plain": [
              "<Figure size 432x288 with 1 Axes>"
            ]
          },
          "metadata": {
            "needs_background": "light"
          }
        }
      ]
    },
    {
      "cell_type": "markdown",
      "source": [
        "3.2.2 하이퍼볼릭 탄젠트\n",
        "\n",
        "시그모이드 함수의 선형 변환임"
      ],
      "metadata": {
        "id": "UHlr_Qsai3I-"
      }
    },
    {
      "cell_type": "code",
      "source": [
        "x = torch.range(-5., 5., 0.1)\n",
        "y = torch.tanh(x)\n",
        "\n",
        "plt.plot(x.numpy(), y.numpy())\n",
        "plt.show()"
      ],
      "metadata": {
        "colab": {
          "base_uri": "https://localhost:8080/",
          "height": 322
        },
        "id": "2iHWEszEiuBf",
        "outputId": "dbf2c392-490d-4319-f1c2-d07b087aa618"
      },
      "execution_count": null,
      "outputs": [
        {
          "output_type": "stream",
          "name": "stderr",
          "text": [
            "/usr/local/lib/python3.7/dist-packages/ipykernel_launcher.py:1: UserWarning: torch.range is deprecated and will be removed in a future release because its behavior is inconsistent with Python's range builtin. Instead, use torch.arange, which produces values in [start, end).\n",
            "  \"\"\"Entry point for launching an IPython kernel.\n"
          ]
        },
        {
          "output_type": "display_data",
          "data": {
            "image/png": "[encoded data removed]",
            "text/plain": [
              "<Figure size 432x288 with 1 Axes>"
            ]
          },
          "metadata": {
            "needs_background": "light"
          }
        }
      ]
    },
    {
      "cell_type": "markdown",
      "source": [
        "3.2.3 렐루\n",
        "\n",
        "음숫값을 0으로 자름"
      ],
      "metadata": {
        "id": "iDKvM41djDmt"
      }
    },
    {
      "cell_type": "code",
      "source": [
        "relu = torch.nn.ReLU()\n",
        "x = torch.range(-5., 5., 0.1)\n",
        "y = torch.relu(x)\n",
        "\n",
        "plt.plot(x.numpy(), y.numpy())\n",
        "plt.show()"
      ],
      "metadata": {
        "colab": {
          "base_uri": "https://localhost:8080/",
          "height": 322
        },
        "id": "ViV1fFPBi-_y",
        "outputId": "36833fe0-6699-492c-839d-592afae5ae9e"
      },
      "execution_count": null,
      "outputs": [
        {
          "output_type": "stream",
          "name": "stderr",
          "text": [
            "/usr/local/lib/python3.7/dist-packages/ipykernel_launcher.py:2: UserWarning: torch.range is deprecated and will be removed in a future release because its behavior is inconsistent with Python's range builtin. Instead, use torch.arange, which produces values in [start, end).\n",
            "  \n"
          ]
        },
        {
          "output_type": "display_data",
          "data": {
            "image/png": "[encoded data removed]",
            "text/plain": [
              "<Figure size 432x288 with 1 Axes>"
            ]
          },
          "metadata": {
            "needs_background": "light"
          }
        }
      ]
    },
    {
      "cell_type": "markdown",
      "source": [
        "3.2.4 소프트맥스\n",
        "\n",
        "소프트맥스 출력의 합은 1이기에 분류 작업의 출력을 해석하는 데 유용함. 그래서 확률 기반의 목적 함수인 범주형 크로스 엔트로피와 함께 사용되는 것이 보통."
      ],
      "metadata": {
        "id": "_ykBYGhOjjHj"
      }
    },
    {
      "cell_type": "code",
      "source": [
        "softmax = nn.Softmax(dim=1)\n",
        "x_input = torch.randn(1,3)\n",
        "y_output = softmax(x_input)\n",
        "print(x_input)\n",
        "print(y_output)\n",
        "print(torch.sum(y_output, dim=1))"
      ],
      "metadata": {
        "colab": {
          "base_uri": "https://localhost:8080/"
        },
        "id": "72vd-TrEjMQi",
        "outputId": "b1156a6f-f403-4cb1-a09a-7161685828b8"
      },
      "execution_count": null,
      "outputs": [
        {
          "output_type": "stream",
          "name": "stdout",
          "text": [
            "tensor([[-0.0642, -0.0426, -0.9126]])\n",
            "tensor([[0.4082, 0.4171, 0.1747]])\n",
            "tensor([1.])\n"
          ]
        }
      ]
    },
    {
      "cell_type": "markdown",
      "source": [
        "**3.3 손실 함수**\n",
        "\n",
        "정답과 예측을 입력으로 받아 실숫값 점수를 만듦. 점수가 높을수록 모델의 예측 성능이 나빠짐\n",
        "\n",
        "3.3.1 평균 제곱 오차 손실 MSE\n",
        "\n",
        ": 신경망의 출력과 타깃이 연속값인 회귀 문제에서 널리 사용됨"
      ],
      "metadata": {
        "id": "WI5ie2-bj9RM"
      }
    },
    {
      "cell_type": "code",
      "source": [
        "import torch\n",
        "import torch.nn as nn\n",
        "\n",
        "mse_loss = nn.MSELoss()\n",
        "outputs = torch.randn(3, 5, requires_grad=True)\n",
        "targets = torch.randn(3, 5)\n",
        "loss = mse_loss(outputs, targets)\n",
        "print(loss)"
      ],
      "metadata": {
        "id": "y9mhDB8njXq-",
        "colab": {
          "base_uri": "https://localhost:8080/"
        },
        "outputId": "dad3c051-ca3e-4ac5-f89b-5a57c9dde5c3"
      },
      "execution_count": null,
      "outputs": [
        {
          "output_type": "stream",
          "name": "stdout",
          "text": [
            "tensor(3.6795, grad_fn=<MseLossBackward0>)\n"
          ]
        }
      ]
    },
    {
      "cell_type": "markdown",
      "source": [
        "3.3.2 범주형 크로스 엔트로피 손실\n",
        "\n",
        ": 출력을 클래스 소속 확률에 대한 예측으로 이해할 수 있는 다중 분류 문제에 사용됨"
      ],
      "metadata": {
        "id": "xW04FkK65W3Y"
      }
    },
    {
      "cell_type": "code",
      "source": [
        "ce_loss = nn.CrossEntropyLoss()\n",
        "outputs = torch.randn(3, 5, requires_grad=True)\n",
        "targets = torch.tensor([1, 0, 3], dtype=torch.int64)\n",
        "loss = ce_loss(outputs, targets)\n",
        "print(loss)"
      ],
      "metadata": {
        "colab": {
          "base_uri": "https://localhost:8080/"
        },
        "id": "4KSlNo7X5Qgh",
        "outputId": "c3cce984-ce79-4ad6-c4a3-c0917815b177"
      },
      "execution_count": null,
      "outputs": [
        {
          "output_type": "stream",
          "name": "stdout",
          "text": [
            "tensor(0.8038, grad_fn=<NllLossBackward0>)\n"
          ]
        }
      ]
    },
    {
      "cell_type": "markdown",
      "source": [
        "3.3.3 이진 크로스 엔트로피 손실\n",
        "\n",
        "아래 코드에서는 신경망의 출력을 가장한 랜덤 벡터에 시그모이드 활성화 함수를 적용해 이진 확률 벡터인 probabilities를 만든 것"
      ],
      "metadata": {
        "id": "2nlYSTW7CPYF"
      }
    },
    {
      "cell_type": "code",
      "source": [
        "bce_loss = nn.BCELoss()\n",
        "sigmoid = nn.Sigmoid()\n",
        "probabilities = sigmoid(torch.randn(4, 1, requires_grad=True))\n",
        "targets = torch.tensor([1,0,1,0], dtype=torch.float32).view(4,1)\n",
        "loss = bce_loss(probabilities, targets)\n",
        "print(probabilities)\n",
        "print(loss)"
      ],
      "metadata": {
        "colab": {
          "base_uri": "https://localhost:8080/"
        },
        "id": "ZZOO0RAYCIYu",
        "outputId": "72ce6cd7-0aca-46f9-af9d-7177d33ef74b"
      },
      "execution_count": null,
      "outputs": [
        {
          "output_type": "stream",
          "name": "stdout",
          "text": [
            "tensor([[0.3104],\n",
            "        [0.6843],\n",
            "        [0.3859],\n",
            "        [0.5724]], grad_fn=<SigmoidBackward0>)\n",
            "tensor(1.0312, grad_fn=<BinaryCrossEntropyBackward0>)\n"
          ]
        }
      ]
    },
    {
      "cell_type": "markdown",
      "source": [
        "**3.4 지도 학습 훈련 알아보기**\n",
        "\n",
        "1) 예제 데이터 만들기 : get_toy_data()  \n",
        "2) 모델 선택 : 퍼셉트론  \n",
        "3) 확률을 클래스로 변환하기 : 결정 경계 적용  \n",
        "4) 손실 함수 선택 : 이진 크로스 엔트로피  \n",
        "5) 옵티마이저 선택 : 오차 신호를 사용해 모델의 가중치를 업데이트함  \n",
        "6) 모두 합치기 : 그레이디언트 기반의 지도 학습"
      ],
      "metadata": {
        "id": "mYdPSXUHC9o0"
      }
    },
    {
      "cell_type": "code",
      "source": [
        "# 퍼셉트론과 이진 분류를 위한 지도 학습 훈련 반복\n",
        "\n",
        "# 각 에포크는 전체 훈련 데이터를 사용함\n",
        "for epoch_i in range(n_epochs):\n",
        "  # 내부 반복은 데이터셋에 있는 배치에 대해 수행됨\n",
        "  for batch_i in range(n_batches):\n",
        "    x_data, y_target = get_toy_data(batch_size)  # 데이터 가져오기\n",
        "    perceptron.zero_grad()  # 그레이디언트 초기화\n",
        "    y_pred = perceptron(x_data, apply_sigmoid=True)  # 모델의 정방향 계산 수행하기\n",
        "    loss = bce_loss(y_pred, y_target)  # 최적하려는 손실 계산하기\n",
        "    loss.backward()  # 손실 신호를 거꾸로 전파하기\n",
        "    optimizer.step()  # 옵티마이저로 업데이트하기"
      ],
      "metadata": {
        "id": "cXYwP0GYgprz"
      },
      "execution_count": null,
      "outputs": []
    },
    {
      "cell_type": "markdown",
      "source": [
        "**3.6 예제 : 레스토랑 리뷰 감성 분류하기**\n",
        "\n",
        "< yelp_dataset_preprocessing_LITE >  \n",
        "reviews_with_split.csv 파일이 최소한의 데이터 정제 작업 완료된 건가??"
      ],
      "metadata": {
        "id": "Sz1X3nzdcVZ9"
      }
    },
    {
      "cell_type": "code",
      "source": [
        "from argparse import Namespace\n",
        "from collections import Counter\n",
        "import json\n",
        "import os\n",
        "import re\n",
        "import string\n",
        "\n",
        "import numpy as np\n",
        "import pandas as pd\n",
        "import torch\n",
        "import torch.nn as nn\n",
        "import torch.nn.functional as F\n",
        "import torch.optim as optim\n",
        "from torch.utils.data import Dataset, DataLoader\n",
        "import tqdm"
      ],
      "metadata": {
        "id": "inZP3F0fmYKU"
      },
      "execution_count": null,
      "outputs": []
    },
    {
      "cell_type": "code",
      "source": [
        "### 데이터 벡터화 클래스\n",
        "\n",
        "class ReviewDataset(Dataset):\n",
        "  def __init__(self, review_df, vectorizer):\n",
        "    self.review_df = review_df   #데이터셋\n",
        "    self.vectorizer = vectorizer  #ReviewVectorizer 객체\n",
        "\n",
        "    self.train_df = self.review_df[self.review_df.split=='train']\n",
        "    self.train_size = len(self.train_df)\n",
        "\n",
        "    self.val_df = self.review_df[self.review_df.split=='val']\n",
        "    self.validation_size = len(self.val_df)\n",
        "\n",
        "    self.test_df = self.review_df[self.review_df.split=='test']\n",
        "    self.test_size = len(self.test_df)\n",
        "\n",
        "    self._lookup_dict = {'train':(self.train_df, self.train_size),\n",
        "                         'val':(self.val_df, self.validation_size),\n",
        "                         'test':(self.test_df, self.test_size)}\n",
        "    self.set_split(train)\n",
        "\n",
        "\n",
        "  @classmethod\n",
        "  def load_dataset_and_make_vectorizer(cls, review_csv):\n",
        "    # 데이터셋을 로드하고 새로운 ReviewVectorizer 객체를 만듦\n",
        "    review_df = pd.read_csv(review_csv)  #<--매개변수: 데이터셋의 위치\n",
        "    return cls(review_df, ReviewVectorizer.from_dataframe(review_df))  #<--반환값: ReviewDataset의 인스턴스\n",
        "  \n",
        "\n",
        "  def get_vectorizer(self):\n",
        "    return self._vectorizer #ReviewVectorizer 객체를 반환함\n",
        "\n",
        "\n",
        "  def set_split(self, split='train'):\n",
        "    self._target_split = split\n",
        "    self._target_df, self._target_size = self._lookup_dict[split]\n",
        "\n",
        "\n",
        "  def __len__(self):\n",
        "    return self._target_size\n",
        "  \n",
        "\n",
        "  def __getitem__(self, index): # 파이토치 데이터셋의 주요 진입 메서드\n",
        "    # 매개변수: index (int) - 데이터 포인트의 인덱스\n",
        "    # 반환값: 데이터 포인트의 특성(x_data)과 레이블(y_target)로 이루어진 딕셔너리\n",
        "    row = self._target_df.iloc[index]\n",
        "    \n",
        "    review_vector = self._vectorizer.vectorize(row.review)\n",
        "    rating_index = self._vectorizer.rating_vocab.lookup_token(row.rating)\n",
        "\n",
        "    return {'x_data':review_vector, 'y_target':rating_index}\n",
        "\n",
        "  \n",
        "  def get_num_batches(self, batch_size): # 배치 크기가 주어지면 데이터셋으로 만들 수 있는 배치 개수 반환\n",
        "    return len(self)//batch_size"
      ],
      "metadata": {
        "id": "D-Arlj2UpkWn"
      },
      "execution_count": null,
      "outputs": []
    },
    {
      "cell_type": "markdown",
      "source": [
        "3.6.3 Vocabulary, Vectorizer, DataLoader 클래스\n",
        "\n",
        "*1) Vocabulary*  \n",
        "머신러닝 파이프라인에 필요한 토큰과 정수 매핑을 관리함  \n",
        "- add_token() : 새로운 토큰을 추가  \n",
        "- lookup_token() : 토큰에 해당하는 인덱스를 추출\n",
        "- lookup_index() : 특정 인덱스에 해당하는 토큰을 추출"
      ],
      "metadata": {
        "id": "unmHc3SyILGq"
      }
    },
    {
      "cell_type": "code",
      "source": [
        "class Vocabulary(object):\n",
        "  \"\"\" 매핑을 위해 텍스트를 처리하고 어휘 사전을 만드는 클래스 \"\"\"\n",
        "\n",
        "  def __init__(self, token_to_idx=None, add_unk=True, unk_token=\"<UNK>\"):\n",
        "    \"\"\" \n",
        "    매개변수 : token_to_idx (dict): 기존 토큰-인덱스 매핑 딕셔너리\n",
        "               add_unk (bool): UNK 토큰을 추가할지 지정하는 플래그\n",
        "               unk_token (str): Vocabulary에 추가할 UNK 토큰\n",
        "    \"\"\"\n",
        "    if token_to_idx is None:\n",
        "      token_to_idx = {}\n",
        "    self._token_to_idx = token_to_idx\n",
        "\n",
        "    self._idx_to_token = {idx: token\n",
        "                          for token, idx in self._token_to_idx.items()}\n",
        "    \n",
        "    self._add_unk = _add_unk\n",
        "    self._unk_token = unk_token\n",
        "\n",
        "    self.unk_index = -1\n",
        "    if add_unk:\n",
        "      self.unk_index = self.add_token(unk_token)\n",
        "\n",
        "  @classmethod\n",
        "  def to_serializable(self, contents):\n",
        "    \"\"\" 직렬화할 수 있는 딕셔너리를 반환합니다 \"\"\"\n",
        "    return cls(**contents)\n",
        "\n",
        "  \n",
        "  def add_token(self, token):\n",
        "    \"\"\" 토큰을 기반으로 매핑 딕셔너리를 업데이트합니다\n",
        "    매개변수 : token (str): Vocabulary에 추가할 토큰\n",
        "    반환값 : index (int): 토큰에 상응하는 점수\n",
        "    \"\"\"\n",
        "    if token in self._token_to_idx:\n",
        "      index = self._token_to_idx[token]\n",
        "    else:\n",
        "      index = len(self._token_to_idx)\n",
        "      self._token_to_idx[token] = index\n",
        "      self._idx_to_token[index] = token\n",
        "    return index\n",
        "\n",
        "  \n",
        "  def lookup_token(self, token):\n",
        "    \"\"\" 토큰에 대응하는 인덱스를 추출합니다. 토큰이 없으면 UNK 인덱스를 반환합니다\n",
        "    매개변수 : token (str): 찾을 토큰\n",
        "    반환값 : index (int): 토큰에 해당하는 인덱스\n",
        "    노트 : UNK 토큰을 사용하려면 'unk_index'가 0보다 커야 함\n",
        "    \"\"\"\n",
        "    if self.add_unk:\n",
        "      return self._token_to_idx.get(token, self.unk_index)\n",
        "    else:\n",
        "      return self._token_to_idx[token]\n",
        "\n",
        "  \n",
        "  def lookup_index(self, index):\n",
        "    if index not in self._idx_to_token:\n",
        "      raise KeyError('Vocabulary에 인덱스(%d)가 없습니다' % index)\n",
        "    return self._idx_to_token[index]\n",
        "\n",
        "  \n",
        "  def __str__(self):\n",
        "    return \"<Vocabulary(size=%d)>\" % len(self)\n",
        "\n",
        "  def __len__(self):\n",
        "    return len(self._token_to_idx)"
      ],
      "metadata": {
        "id": "TW-cYPNLmYNq"
      },
      "execution_count": null,
      "outputs": []
    },
    {
      "cell_type": "markdown",
      "source": [
        "*2) Vectorizer*\n",
        "\n",
        "입력 데이터 포인트의 토큰을 순회하하면서 각 토큰을 정수로 바꿔서 벡터 결과를 내야 함 \n",
        "\n",
        "-> Vectorizer 클래스는 리뷰의 단어를 정수로 매핑한 Vocabulary를 캡슐화함\n",
        "\n",
        "텍스트를 수치 벡터로 변환하는 Vectorizer 클래스"
      ],
      "metadata": {
        "id": "ECn7MEPthWrP"
      }
    },
    {
      "cell_type": "code",
      "source": [
        "class ReviewVectorizer(object):\n",
        "  \"\"\" 어휘 사전을 생성하고 관리합니다 \"\"\"\n",
        "  def __init__(self, review_vocab, rating_vocab):\n",
        "    self.review_vocab = review_vocab  # 단어를 정수에 매핑하는 Vocabulary\n",
        "    self.rating_vocab = rating_vocab  # 클래스 레이블을 정수에 매핑하는 Vocabulary\n",
        "\n",
        "  \n",
        "  def vectorize(self, review): \n",
        "    \"\"\" 리뷰에 대한 원-핫 벡터를 만듭니다 \"\"\"\n",
        "    one_hot = np.zeros(len(self.review_vocab), dtype=np.float32)\n",
        "\n",
        "    for token in review.split(\" \"):\n",
        "      if token not in string.punctuation:\n",
        "        one_hot[self.review_vocab.lookup_token(token)] = 1\n",
        "    \n",
        "    return one_hot\n",
        "\n",
        "  \n",
        "  @classmethod\n",
        "  def from_dataframe(cls, review_df, cutoff=25): \n",
        "    \"\"\" 데이터셋 데이터프레임에서 Vectorizer 객체를 만듭니다 \"\"\"\n",
        "    review_vocab = Vocabulary(add_unk=True)\n",
        "    rating_vocab = Vocabulary(add_unk=False)\n",
        "\n",
        "    # 점수를 추가합니다\n",
        "    for rating in sorted(set(review_df.rating)):\n",
        "      rating_vocab.add_token(rating)\n",
        "\n",
        "    # count > cutoff인 단어를 추가합니다\n",
        "    word_counts = Counter()\n",
        "    for review in review_df.review:\n",
        "      for word in review.split(\" \"):\n",
        "        if word not in string.punctuation:\n",
        "          word_counts[word] += 1\n",
        "\n",
        "    for word, count in word_counts.items():\n",
        "      if count > cutoff:\n",
        "        review_vocab.add_token(word)\n",
        "\n",
        "    return cls(review_vocab, rating_vocab)\n",
        "\n",
        "  \n",
        "  @classmethod\n",
        "  def from_serializable(cls, contents): \n",
        "    \"\"\" 직렬화된 딕셔너리에서 ReviewVectorizer 객체를 만듭니다 \"\"\"\n",
        "    review_vocab = Vocabulary.from_serializable(contents['review_vocab'])\n",
        "    rating_vocab = Vocabulary.from_serializable(contents['rating_vocab'])\n",
        "\n",
        "    return cls(review_vocab=review_vocab, rating_vocab=rating_vocab)\n",
        "\n",
        "  \n",
        "  def to_serializable(self): \n",
        "    \"\"\" 캐싱을 위해 직렬화된 딕셔너리를 만듭니다 \"\"\"\n",
        "    return {'review_vocab':self.review_vocab.to_serializable(),\n",
        "            'rating_vocab':self.rating_vocab.to_serializable()}"
      ],
      "metadata": {
        "id": "mbSv4HQRmYRQ"
      },
      "execution_count": null,
      "outputs": []
    },
    {
      "cell_type": "markdown",
      "source": [
        "*3) DataLoader*\n",
        "\n",
        "텍스트를 벡터로 변환한 데이터 포인트 모으기\n",
        "\n",
        "데이터셋에서 미니배치 생성하기"
      ],
      "metadata": {
        "id": "IB8KEDSdlqag"
      }
    },
    {
      "cell_type": "code",
      "source": [
        "from torch.utils.data import DataLoader\n",
        "\n",
        "def generate_batches(dataset, batch_size, shuffle=True, drop_last=True, device='cpu'):\n",
        "  \"\"\" 파이토치 DataLoader를 감싸는 제너레이터 함수. 각 텐서를 지정된 장치로 이동함 \"\"\"\n",
        "  dataloader = DataLoader(dataset=dataset, batch_size=batch_size, shuffle=shuffle, drop_last=drop_last)\n",
        "\n",
        "  for data_dict in dataloader:\n",
        "    out_data_dict = {}\n",
        "    for name, tensor in data_dict.items():\n",
        "      out_data_dict[name] = data_dict[name].to(device)\n",
        "    yield out_data_dict"
      ],
      "metadata": {
        "id": "9uoUwJi1mYXS"
      },
      "execution_count": null,
      "outputs": []
    },
    {
      "cell_type": "markdown",
      "source": [
        "3.6.4 퍼셉트론 분류기"
      ],
      "metadata": {
        "id": "F4oD55cfmqu4"
      }
    },
    {
      "cell_type": "code",
      "source": [
        "import torch.nn as nn\n",
        "\n",
        "class ReviewClassifier(nn.Module):\n",
        "  \"\"\" 간단한 퍼셉트론 기반 분류기 \"\"\"\n",
        "  def __init__(self, num_features): #<-- 입력 특성 벡터의 크기\n",
        "    super(ReviewClassifier, self).__init__()\n",
        "    self.fc1 = nn.Linear(in_features = num_features,\n",
        "                         out_feautres = 1)\n",
        "    \n",
        "  \n",
        "  def forward(self, x_in, apply_sigmoid=False):\n",
        "    \"\"\" 분류기의 정방향 계산 \"\"\"\n",
        "    y_out = self.fc1(x_in).squeeze()\n",
        "    if apply_sigmoid:\n",
        "      y_out = torch.sigmoid(y_out)\n",
        "    return y_out"
      ],
      "metadata": {
        "id": "DADvnqwlmp9I"
      },
      "execution_count": null,
      "outputs": []
    },
    {
      "cell_type": "markdown",
      "source": [
        "3.6.5 모델 훈련\n",
        "\n",
        "args 객체 : 모든 결정 요소를 관리함"
      ],
      "metadata": {
        "id": "rQ9NKrlqqV01"
      }
    },
    {
      "cell_type": "code",
      "source": [
        "from argparse import Namespace\n",
        "\n",
        "args = NameSpace(\n",
        "    frequency_cutoff = 25,\n",
        "    model_state_file = 'model.pth',\n",
        "    review_csv = '/content/reviews_with_splits_lite.csv',\n",
        "    save_dir = '/content/',\n",
        "    vectorizer_file = 'vectorizer.json',\n",
        "    # 모델 하이퍼파라미터 없음\n",
        "    # 훈련 하이퍼파라미터\n",
        "    batch_size = 128,\n",
        "    early_stopping_criteria = 5,\n",
        "    learning_rate = 0.001,\n",
        "    num_epochs = 100,\n",
        "    seed = 1337\n",
        ")"
      ],
      "metadata": {
        "id": "gq1KqrrKqlHN"
      },
      "execution_count": null,
      "outputs": []
    },
    {
      "cell_type": "code",
      "source": [
        "### 데이터셋, 모델, 손실, 옵티마이저, 훈련 상태 딕셔너리 만들기\n",
        "import torch.optim as optim\n",
        "\n",
        "def make_train_state(args):\n",
        "  return {'epoch_index':0,\n",
        "          'train_loss':[],\n",
        "          'train_acc':[],\n",
        "          'val_loss':[],\n",
        "          'val_acc':[],\n",
        "          'test_loss':-1,\n",
        "          'test_acc':-1}\n",
        "\n",
        "train_state = make_train_state(args)\n",
        "\n",
        "if not torch.cuda.is_available():\n",
        "  args.cuda = False\n",
        "args.device = torch.device('cuda'if args.cuda else 'cpu')\n",
        "\n",
        "# 데이터셋과 Vectorizer\n",
        "dataset = ReviewDataset.load_dataset_and_make_vectorizer(args.review_csv)\n",
        "vectorizer = dataset.get_vectorizer()\n",
        "\n",
        "# 모델\n",
        "classifier = ReviewClassifier(num_features=len(vectorizer.review_vocab))\n",
        "classifier = classifier.to(args.device)\n",
        "\n",
        "# 손실 함수와 옵티마이저\n",
        "loss_func = nn.BCEWithLogitsLoss()\n",
        "optimizer = optim.Adam(classifier.parameters(), lr=args.learning_rate)\n",
        "\n"
      ],
      "metadata": {
        "colab": {
          "base_uri": "https://localhost:8080/",
          "height": 249
        },
        "id": "ZuCTYKcgr7Xf",
        "outputId": "90a09e09-ac32-4501-c62d-d50e18eee77b"
      },
      "execution_count": null,
      "outputs": [
        {
          "output_type": "error",
          "ename": "NameError",
          "evalue": "ignored",
          "traceback": [
            "\u001b[0;31m---------------------------------------------------------------------------\u001b[0m",
            "\u001b[0;31mNameError\u001b[0m                                 Traceback (most recent call last)",
            "\u001b[0;32m<ipython-input-11-6c978868c6a4>\u001b[0m in \u001b[0;36m<module>\u001b[0;34m()\u001b[0m\n\u001b[1;32m     11\u001b[0m           'test_acc':-1}\n\u001b[1;32m     12\u001b[0m \u001b[0;34m\u001b[0m\u001b[0m\n\u001b[0;32m---> 13\u001b[0;31m \u001b[0mtrain_state\u001b[0m \u001b[0;34m=\u001b[0m \u001b[0mmake_train_state\u001b[0m\u001b[0;34m(\u001b[0m\u001b[0margs\u001b[0m\u001b[0;34m)\u001b[0m\u001b[0;34m\u001b[0m\u001b[0;34m\u001b[0m\u001b[0m\n\u001b[0m\u001b[1;32m     14\u001b[0m \u001b[0;34m\u001b[0m\u001b[0m\n\u001b[1;32m     15\u001b[0m \u001b[0;32mif\u001b[0m \u001b[0;32mnot\u001b[0m \u001b[0mtorch\u001b[0m\u001b[0;34m.\u001b[0m\u001b[0mcuda\u001b[0m\u001b[0;34m.\u001b[0m\u001b[0mis_available\u001b[0m\u001b[0;34m(\u001b[0m\u001b[0;34m)\u001b[0m\u001b[0;34m:\u001b[0m\u001b[0;34m\u001b[0m\u001b[0;34m\u001b[0m\u001b[0m\n",
            "\u001b[0;31mNameError\u001b[0m: name 'args' is not defined"
          ]
        }
      ]
    },
    {
      "cell_type": "code",
      "source": [
        "### 훈련 반복\n",
        "for epoch_index in range(args.num_epochs):\n",
        "  trian_state['epoch_index'] = epoch_index\n",
        "\n",
        "  dataset.set_split('train')\n",
        "  batch_generator = generate_batches(dataset, \n",
        "                                     batch_size=args.batch_size,\n",
        "                                     device = args.device)\n",
        "  running_loss = 0.0\n",
        "  running_acc = 0.0\n",
        "  classifier.train()\n",
        "\n",
        "  for batch_index, batch_dict in enumerate(batch_generator):\n",
        "    optimizer.zero_grad()  #1단계. 그레이디언트를 0으로 초기화\n",
        "    y_pred = classifier(x_in=batch_dict['x_data'].float())  #2단계. 출력을 계산함\n",
        "    loss = loss_func(y_pred, batch_dict['y_target'.float()])  #3단계. 손실을 계산함\n",
        "    loss_batch = loss.item()\n",
        "    running_loss += (loss_batch - running_loss) / (batch_index + 1)\n",
        "    loss.backward()  #4단계. 손실을 사용해 그레이디언트를 계산함\n",
        "    optimizer.step()  #5단계. 옵티마이저로 가중치를 업데이트함\n",
        "\n",
        "    acc_batch = compute_accuracy(y_pred, batch_dict['y_target'])  #정확도를 계산함\n",
        "    running_acc += (acc_batch - running_acc) / (batch_index + 1)\n",
        "  \n",
        "  train_state['train_loss'].append(running_loss)\n",
        "  train_state['train_acc'].append(running_acc)\n",
        "\n",
        "  # 검증 세트에 대한 순회\n",
        "  # 검증 세트와 배치 제너레이터 준비, 손실과 정확도를 0으로 설정\n",
        "  dataset.set_split('val')\n",
        "  batch_generator = generate_batches(dataset, \n",
        "                                      batch_size=args.batch_size, \n",
        "                                      device=args.device)\n",
        "  running_loss = 0.\n",
        "  running_acc = 0.\n",
        "  classifier.eval()\n",
        "\n",
        "  for batch_index, batch_dict in enumerate(batch_generator):\n",
        "\n",
        "      # 단계 1. 출력을 계산합니다\n",
        "      y_pred = classifier(x_in=batch_dict['x_data'].float())\n",
        "\n",
        "      # 단계 2. 손실을 계산합니다\n",
        "      loss = loss_func(y_pred, batch_dict['y_target'].float())\n",
        "      loss_batch = loss.item()\n",
        "      running_loss += (loss_batch - running_loss) / (batch_index + 1)\n",
        "\n",
        "      # 단계 3. 정확도를 계산합니다\n",
        "      acc_batch = compute_accuracy(y_pred, batch_dict['y_target'])\n",
        "      running_acc += (acc_batch - running_acc) / (batch_index + 1)\n",
        "      \n",
        "  train_state['val_loss'].append(running_loss)\n",
        "  train_state['val_acc'].append(running_acc)"
      ],
      "metadata": {
        "id": "R0hgF6Pvwirj"
      },
      "execution_count": null,
      "outputs": []
    },
    {
      "cell_type": "markdown",
      "source": [
        "3.6.6 평가, 추론, 분석"
      ],
      "metadata": {
        "id": "X9JIo21y3Cbc"
      }
    }
  ]
}