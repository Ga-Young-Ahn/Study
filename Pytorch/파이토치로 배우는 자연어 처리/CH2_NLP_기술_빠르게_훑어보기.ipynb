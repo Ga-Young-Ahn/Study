{
  "nbformat": 4,
  "nbformat_minor": 0,
  "metadata": {
    "colab": {
      "name": "CH2_NLP 기술 빠르게 훑어보기.ipynb",
      "provenance": [],
      "collapsed_sections": [],
      "authorship_tag": "ABX9TyP+4lqvLteakkJCS8fCG08Z",
      "include_colab_link": true
    },
    "kernelspec": {
      "name": "python3",
      "display_name": "Python 3"
    },
    "language_info": {
      "name": "python"
    }
  },
  "cells": [
    {
      "cell_type": "markdown",
      "metadata": {
        "id": "view-in-github",
        "colab_type": "text"
      },
      "source": [
        "<a href=\"https://colab.research.google.com/github/Ga-Young-Ahn/Study/blob/main/CH2_NLP_%EA%B8%B0%EC%88%A0_%EB%B9%A0%EB%A5%B4%EA%B2%8C_%ED%9B%91%EC%96%B4%EB%B3%B4%EA%B8%B0.ipynb\" target=\"_parent\"><img src=\"https://colab.research.google.com/assets/colab-badge.svg\" alt=\"Open In Colab\"/></a>"
      ]
    },
    {
      "cell_type": "markdown",
      "source": [
        "**2.1 말뭉치, 토큰, 타입**  \n",
        "텍스트 토큰화"
      ],
      "metadata": {
        "id": "8VrPi1_OZjNH"
      }
    },
    {
      "cell_type": "code",
      "source": [
        "import spacy\n",
        "nlp = spacy.load('en')\n",
        "text = \"Mary, don't slap the green witch\"\n",
        "print([str(token) for token in nlp(text.lower())])"
      ],
      "metadata": {
        "colab": {
          "base_uri": "https://localhost:8080/"
        },
        "id": "Ugmc1vqZZp3U",
        "outputId": "324dc483-6650-4742-975f-6ce8b033e3e9"
      },
      "execution_count": 1,
      "outputs": [
        {
          "output_type": "stream",
          "name": "stdout",
          "text": [
            "['mary', ',', 'do', \"n't\", 'slap', 'the', 'green', 'witch']\n"
          ]
        }
      ]
    },
    {
      "cell_type": "code",
      "source": [
        "from nltk.tokenize import TweetTokenizer\n",
        "tweet = \"Snow White and the Seven Degrees #MakeAMovieCold@midnight:-)\"\n",
        "tokenizer = TweetTokenizer()\n",
        "print(tokenizer.tokenize(tweet.lower()))"
      ],
      "metadata": {
        "colab": {
          "base_uri": "https://localhost:8080/"
        },
        "id": "0xwbehBgZ3Do",
        "outputId": "7d8d6cb5-3e26-41ab-9d8a-9d4a2acb3b9c"
      },
      "execution_count": 4,
      "outputs": [
        {
          "output_type": "stream",
          "name": "stdout",
          "text": [
            "['snow', 'white', 'and', 'the', 'seven', 'degrees', '#makeamoviecold', '@midnight', ':-)']\n"
          ]
        }
      ]
    },
    {
      "cell_type": "markdown",
      "source": [
        "**2.2 유니그램, 바이그램, 트라이그램 ... n-그램**  \n",
        "\n",
        "n-gram : 텍스트에 있는 고정 길이의 연속된 토큰 시퀀스\n",
        "\n",
        "텍스트에서 n-gram 만들기"
      ],
      "metadata": {
        "id": "yHCl0NwNabm7"
      }
    },
    {
      "cell_type": "code",
      "source": [
        "def n_grams(text, n):\n",
        "  '''\n",
        "  takes tokens or text, returns a list of n-grams\n",
        "  '''\n",
        "  return [text[i:i+n] for i in range(len(text)-n+1)]\n",
        "\n",
        "cleaned = ['mary', ',', 'do', \"n't\", 'slap', 'the', 'green', 'witch']\n",
        "print(n_grams(cleaned, 3))"
      ],
      "metadata": {
        "colab": {
          "base_uri": "https://localhost:8080/"
        },
        "id": "eQRt8VOGaKke",
        "outputId": "0b8a20f6-1707-4bb7-db50-a0c1d2fa9e75"
      },
      "execution_count": 6,
      "outputs": [
        {
          "output_type": "stream",
          "name": "stdout",
          "text": [
            "[['mary', ',', 'do'], [',', 'do', \"n't\"], ['do', \"n't\", 'slap'], [\"n't\", 'slap', 'the'], ['slap', 'the', 'green'], ['the', 'green', 'witch']]\n"
          ]
        }
      ]
    },
    {
      "cell_type": "markdown",
      "source": [
        "**2.3 표제어와 어간**\n",
        "\n",
        "표제어 : 단어의 기본형  \n",
        "표제어 추출 : 단어를 표제어로 바꿉니다"
      ],
      "metadata": {
        "id": "MoAiGmi4dt5P"
      }
    },
    {
      "cell_type": "code",
      "source": [
        "nlp = spacy.load('en')\n",
        "doc = nlp(\"he was running late\")\n",
        "for token in doc:\n",
        "  print('{} --> {}'.format(token, token.lemma_))"
      ],
      "metadata": {
        "colab": {
          "base_uri": "https://localhost:8080/"
        },
        "id": "hqFlScm_dioi",
        "outputId": "a1534ee0-ef20-4419-d66e-5f22b32fe99e"
      },
      "execution_count": 7,
      "outputs": [
        {
          "output_type": "stream",
          "name": "stdout",
          "text": [
            "he --> -PRON-\n",
            "was --> be\n",
            "running --> run\n",
            "late --> late\n"
          ]
        }
      ]
    },
    {
      "cell_type": "markdown",
      "source": [
        "**2.5 단어 분류하기 : 품사 태깅**\n",
        "\n",
        "문서에 레이블을 할당하는 개념을 단어나 토큰으로 확장"
      ],
      "metadata": {
        "id": "WDlpVV0ofJHa"
      }
    },
    {
      "cell_type": "code",
      "source": [
        "nlp = spacy.load('en')\n",
        "doc = nlp(\"mary slapped the green witch.\")\n",
        "for token in doc:\n",
        "  print('{} -- {}'.format(token, token.pos_))"
      ],
      "metadata": {
        "colab": {
          "base_uri": "https://localhost:8080/"
        },
        "id": "DA-VgeaefDhj",
        "outputId": "f99e1f64-d866-4b33-fc08-aca791d79162"
      },
      "execution_count": 9,
      "outputs": [
        {
          "output_type": "stream",
          "name": "stdout",
          "text": [
            "mary -- PROPN\n",
            "slapped -- VERB\n",
            "the -- DET\n",
            "green -- ADJ\n",
            "witch -- NOUN\n",
            ". -- PUNCT\n"
          ]
        }
      ]
    },
    {
      "cell_type": "markdown",
      "source": [
        "**2.6 청크 나누기와 개체명 인식**\n",
        "\n",
        "부문 구문 분석 -> 고차원의 단위를 유도하기 (명사구, 동사구...)"
      ],
      "metadata": {
        "id": "-x9wU_yOf1K9"
      }
    },
    {
      "cell_type": "code",
      "source": [
        "nlp = spacy.load('en')\n",
        "doc = nlp(\"mary slapped the green witch.\")\n",
        "for chunk in doc.noun_chunks:\n",
        "  print('{} -- {}'.format(chunk, chunk.label_))"
      ],
      "metadata": {
        "colab": {
          "base_uri": "https://localhost:8080/"
        },
        "id": "_doxy3rvfw_W",
        "outputId": "23c53071-18b9-4736-9c0e-8cbcbbf3205a"
      },
      "execution_count": 10,
      "outputs": [
        {
          "output_type": "stream",
          "name": "stdout",
          "text": [
            "mary -- NP\n",
            "the green witch -- NP\n"
          ]
        }
      ]
    },
    {
      "cell_type": "code",
      "source": [
        ""
      ],
      "metadata": {
        "id": "Ws6rTJcHgG5Z"
      },
      "execution_count": null,
      "outputs": []
    }
  ]
}